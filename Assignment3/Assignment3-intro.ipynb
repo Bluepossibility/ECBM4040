{
 "cells": [
  {
   "cell_type": "markdown",
   "metadata": {},
   "source": [
    "## Columbia University\n",
    "### ECBM E4040 Neural Networks and Deep Learning. Fall 2021."
   ]
  },
  {
   "cell_type": "markdown",
   "metadata": {},
   "source": [
    "# Assignment 3 - Reccurent Neural Networks \n",
    "\n",
    "In this assignment, you will experiment with recurrent neural networks (RNN).\n",
    "\n",
    "### Task 1: XNOR net (40%)\n",
    "\n",
    "Create a RNN network which can correctly compute the XNOR operation.\n",
    "\n",
    "### Task 2: RNN Application - Tweet Sentiment Analysis (60%)\n",
    "\n",
    "Create a Neural Network Model using a LSTM cell, for classifying sentiment from tweets.\n"
   ]
  },
  {
   "cell_type": "markdown",
   "metadata": {},
   "source": [
    "### Submission requirements\n",
    "\n",
    "1. Follow the instructions from prior assignments, or README files in the github.\n"
   ]
  }
 ],
 "metadata": {
  "anaconda-cloud": {},
  "kernelspec": {
   "display_name": "Python 3",
   "language": "python",
   "name": "python3"
  },
  "language_info": {
   "codemirror_mode": {
    "name": "ipython",
    "version": 3
   },
   "file_extension": ".py",
   "mimetype": "text/x-python",
   "name": "python",
   "nbconvert_exporter": "python",
   "pygments_lexer": "ipython3",
   "version": "3.7.9"
  }
 },
 "nbformat": 4,
 "nbformat_minor": 4
}
