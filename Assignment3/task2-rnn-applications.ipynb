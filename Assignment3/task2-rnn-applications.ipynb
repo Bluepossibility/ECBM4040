{
 "cells": [
  {
   "cell_type": "markdown",
   "metadata": {
    "id": "raLwbLFaRvOR"
   },
   "source": [
    "### **Columbia University**\n",
    "### **ECBM E4040 Neural Networks and Deep Learning. Fall 2021.**"
   ]
  },
  {
   "cell_type": "markdown",
   "metadata": {
    "id": "JJCMCx6ISZZw"
   },
   "source": [
    "## **Task 2: RNN application -- Tweet Sentiment Analysis**"
   ]
  },
  {
   "cell_type": "markdown",
   "metadata": {
    "id": "u8wjQhNtSffW"
   },
   "source": [
    "In this task, you are going to classify the sentiment in tweets into positive and negative using an LSTM model. The code to load the data and see its characteristics has been provided to you. \n",
    "\n",
    "In the first task, you will encode the data using using one hot encoding and train an LSTM network to classify the sentiment. In the second task, you will replace the one hot encoding with an embedding layer and train another LSTM model. You will then extract the trained embeddings and visualize the word embeddings in 2 dimensions by using TSNE for dimenssionality redution. "
   ]
  },
  {
   "cell_type": "code",
   "execution_count": 1,
   "metadata": {
    "id": "UZ_G4XdfP7GK"
   },
   "outputs": [],
   "source": [
    "# Import modules\n",
    "from __future__ import print_function\n",
    "import tensorflow as tf\n",
    "import numpy as np\n",
    "import json\n",
    "import time\n",
    "import matplotlib.pyplot as plt\n",
    "import pickle\n",
    "\n",
    "%matplotlib inline\n",
    "\n",
    "%load_ext autoreload\n",
    "%autoreload 2"
   ]
  },
  {
   "cell_type": "markdown",
   "metadata": {
    "id": "6MjTYqMoN8fh"
   },
   "source": [
    "## Load Data\n"
   ]
  },
  {
   "cell_type": "code",
   "execution_count": 2,
   "metadata": {
    "colab": {
     "base_uri": "https://localhost:8080/"
    },
    "id": "F55EwI6RQl1A",
    "outputId": "1e087591-3dad-4471-97df-d9af9214dddb"
   },
   "outputs": [
    {
     "name": "stdout",
     "output_type": "stream",
     "text": [
      "size of original train set: 60000\n",
      "size of original test set: 20000\n",
      "****************************************************************************************************\n",
      "size of train set: 60000, #positive: 30055, #negative: 29945\n",
      "size of test set: 1000, #positive: 510, #negative: 490\n",
      "['it', 'will', 'help', 'relieve', 'your', 'stress', 'padtoken', 'padtoken', 'padtoken', 'padtoken', 'padtoken', 'padtoken', 'padtoken', 'padtoken', 'padtoken', 'padtoken', 'padtoken', 'padtoken', 'padtoken', 'padtoken']\n",
      "train_labels_idx 1\n",
      "sentiment: positive\n"
     ]
    }
   ],
   "source": [
    "with open(\"./tweets_data/vocabulary.pkl\", \"rb\") as f:\n",
    "    vocabulary = pickle.load(f)\n",
    "\n",
    "# load our data and separate it into tweets and labels\n",
    "train_data = json.load(open('tweets_data/trainTweets_preprocessed.json', 'r'))\n",
    "train_data = list(map(lambda row:(np.array(row[0],dtype=np.int32),str(row[1])),train_data))\n",
    "train_tweets = np.array([t[0] for t in train_data])\n",
    "train_labels = np.array([int(t[1]) for t in train_data])\n",
    "\n",
    "test_data = json.load(open('tweets_data/testTweets_preprocessed.json', 'r'))\n",
    "test_data = list(map(lambda row:(np.array(row[0],dtype=np.int32),str(row[1])),test_data))\n",
    "test_tweets = np.array([t[0] for t in test_data])\n",
    "test_labels = np.array([int(t[1]) for t in test_data])\n",
    "\n",
    "print(\"size of original train set: {}\".format(len(train_tweets)))\n",
    "print(\"size of original test set: {}\".format(len(test_tweets)))\n",
    "\n",
    "# only select first 1000 test sample for test\n",
    "test_tweets = test_tweets[:1000]\n",
    "test_labels = test_labels[:1000]\n",
    "\n",
    "print(\"*\"*100)\n",
    "print(\"size of train set: {}, #positive: {}, #negative: {}\".format(len(train_tweets), np.sum(train_labels), len(train_tweets)-np.sum(train_labels)))\n",
    "print(\"size of test set: {}, #positive: {}, #negative: {}\".format(len(test_tweets), np.sum(test_labels), len(test_tweets)-np.sum(test_labels)))\n",
    "\n",
    "# show text of the idx-th train tweet\n",
    "# The 'padtoken' is used to ensure each tweet has the same length\n",
    "idx = 100\n",
    "train_text = [vocabulary[x] for x in train_tweets[idx]]\n",
    "print(train_text)\n",
    "sentiment_label = [\"negative\", \"positive\"]\n",
    "print('train_labels_idx',train_labels[idx])\n",
    "print(\"sentiment: {}\".format(sentiment_label[train_labels[idx]]))"
   ]
  },
  {
   "cell_type": "markdown",
   "metadata": {
    "id": "dmjy9sPDOCnY"
   },
   "source": [
    "## **Part 1 LSTM Encoder**\n",
    "\n",
    "**TODO**: Create a single-layer LSTM network to classify tweets. Use one hot encoding to represent each word in the tweet. Set LSTM units to 100. Use Adam optimizer and set batch size to 64.\n",
    "\n",
    "https://www.tensorflow.org/api_docs/python/tf/keras/layers/LSTM\n",
    "\n",
    "With these settings, what accuracy could you get? You can try to change some stuff in the network to see if you could get a better accuracy (this is optional). \n",
    "\n",
    "(tf.one_hot and Keras functional API may be useful)."
   ]
  },
  {
   "cell_type": "code",
   "execution_count": 3,
   "metadata": {},
   "outputs": [
    {
     "name": "stdout",
     "output_type": "stream",
     "text": [
      "2.6.2\n"
     ]
    }
   ],
   "source": [
    "print(tf.__version__)"
   ]
  },
  {
   "cell_type": "code",
   "execution_count": 4,
   "metadata": {},
   "outputs": [
    {
     "name": "stdout",
     "output_type": "stream",
     "text": [
      "[ 4  5  6  7  8  9 10 11 12 13]\n",
      "(array([4]),)\n"
     ]
    }
   ],
   "source": [
    "a = np.arange(10)+4\n",
    "print(a)\n",
    "print(np.where(a==8))"
   ]
  },
  {
   "cell_type": "code",
   "execution_count": 5,
   "metadata": {},
   "outputs": [
    {
     "name": "stdout",
     "output_type": "stream",
     "text": [
      "[ 345   55 3679 1796   30    7  211  474  260   29   59   33    1    1\n",
      "    1    1    1    1    1    1]\n"
     ]
    }
   ],
   "source": [
    "print(train_tweets[0])"
   ]
  },
  {
   "cell_type": "code",
   "execution_count": 6,
   "metadata": {},
   "outputs": [
    {
     "name": "stdout",
     "output_type": "stream",
     "text": [
      "(60000, 20)\n",
      "(60000,)\n",
      "(1000, 20)\n",
      "(1000,)\n",
      "20\n",
      "(1000, 20)\n",
      "(1000,)\n"
     ]
    }
   ],
   "source": [
    "print(train_tweets.shape)\n",
    "print(train_labels.shape)\n",
    "print(test_tweets.shape)\n",
    "print(test_labels.shape)\n",
    "print(len(train_text))\n",
    "print(train_tweets[:1000].shape)\n",
    "print(train_labels[:1000].shape)"
   ]
  },
  {
   "cell_type": "code",
   "execution_count": 8,
   "metadata": {},
   "outputs": [
    {
     "name": "stdout",
     "output_type": "stream",
     "text": [
      "tf.Tensor(\n",
      "[[0 1 0 0 0 0 0 0]\n",
      " [0 0 0 0 0 1 0 0]\n",
      " [0 0 1 0 0 0 0 0]\n",
      " [0 0 0 0 1 0 0 0]], shape=(4, 8), dtype=int32)\n",
      "[0 1 1 0 1 1 0 0]\n"
     ]
    }
   ],
   "source": [
    "# tf.one_hot # Returns a one-hot tensor.\n",
    "# tf.one_hot(\n",
    "#     indices, depth, on_value=None, off_value=None, axis=None, dtype=None, name=None\n",
    "# )\n",
    "print(tf.one_hot([1,5,2,4],8,off_value=0))\n",
    "print(np.sum(tf.one_hot([1,5,2,4],8,off_value=0),axis=0))"
   ]
  },
  {
   "cell_type": "code",
   "execution_count": 9,
   "metadata": {
    "id": "-Mx6WgMBVI3T"
   },
   "outputs": [
    {
     "name": "stdout",
     "output_type": "stream",
     "text": [
      "Model: \"sequential_1\"\n",
      "_________________________________________________________________\n",
      "Layer (type)                 Output Shape              Param #   \n",
      "=================================================================\n",
      "lstm_6 (LSTM)                (60000, 20, 100)          440400    \n",
      "_________________________________________________________________\n",
      "dense_6 (Dense)              (60000, 20, 1)            101       \n",
      "=================================================================\n",
      "Total params: 440,501\n",
      "Trainable params: 440,501\n",
      "Non-trainable params: 0\n",
      "_________________________________________________________________\n",
      "Epoch 1/15\n",
      "938/938 [==============================] - 31s 31ms/step - loss: 0.5851 - accuracy: 0.6866\n",
      "Epoch 2/15\n",
      "938/938 [==============================] - 29s 31ms/step - loss: 0.5532 - accuracy: 0.7083\n",
      "Epoch 3/15\n",
      "938/938 [==============================] - 29s 31ms/step - loss: 0.5445 - accuracy: 0.7128\n",
      "Epoch 4/15\n",
      "938/938 [==============================] - 29s 31ms/step - loss: 0.5380 - accuracy: 0.7160\n",
      "Epoch 5/15\n",
      "938/938 [==============================] - 29s 31ms/step - loss: 0.5315 - accuracy: 0.7215\n",
      "Epoch 6/15\n",
      "938/938 [==============================] - 29s 31ms/step - loss: 0.5245 - accuracy: 0.7250\n",
      "Epoch 7/15\n",
      "938/938 [==============================] - 29s 31ms/step - loss: 0.5178 - accuracy: 0.7297\n",
      "Epoch 8/15\n",
      "938/938 [==============================] - 29s 31ms/step - loss: 0.5113 - accuracy: 0.7334\n",
      "Epoch 9/15\n",
      "938/938 [==============================] - 29s 31ms/step - loss: 0.5030 - accuracy: 0.7382\n",
      "Epoch 10/15\n",
      "938/938 [==============================] - 29s 31ms/step - loss: 0.4953 - accuracy: 0.7434\n",
      "Epoch 11/15\n",
      "938/938 [==============================] - 29s 31ms/step - loss: 0.4866 - accuracy: 0.7481\n",
      "Epoch 12/15\n",
      "938/938 [==============================] - 29s 31ms/step - loss: 0.4782 - accuracy: 0.7528\n",
      "Epoch 13/15\n",
      "938/938 [==============================] - 29s 31ms/step - loss: 0.4687 - accuracy: 0.7588\n",
      "Epoch 14/15\n",
      "938/938 [==============================] - 29s 31ms/step - loss: 0.4599 - accuracy: 0.7637\n",
      "Epoch 15/15\n",
      "938/938 [==============================] - 29s 31ms/step - loss: 0.4497 - accuracy: 0.7693\n"
     ]
    }
   ],
   "source": [
    "###################################################\n",
    "# TODO: Create a single-layer LSTM network.       #\n",
    "#                                                 #\n",
    "###################################################\n",
    "train_onehot=tf.one_hot(train_tweets,1000)\n",
    "test_onehot=tf.one_hot(test_tweets,1000)\n",
    "############################################################################################################\n",
    "input_dim = 60000\n",
    "output_dim = 1\n",
    "embedding_dim = 32\n",
    "LSTM_units = 100\n",
    "############################################################################################################\n",
    "model = tf.keras.models.Sequential() \n",
    "\n",
    "#model.add(tf.keras.Input(shape=(60000, 20)))\n",
    "\n",
    "model.add(tf.keras.layers.LSTM(LSTM_units, return_sequences=True))\n",
    "model.add(tf.keras.layers.Dense(output_dim,activation='sigmoid'))\n",
    "\n",
    "model.build(input_shape=(60000,20,1000))\n",
    "model.summary()\n",
    "model.compile(loss=tf.keras.losses.BinaryCrossentropy(),\n",
    "              optimizer='Adam',\n",
    "              metrics=['accuracy']) \n",
    "\n",
    "history_LSTM = model.fit(train_onehot, train_labels, batch_size=64, epochs=15)\n",
    "############################################################################################################\n",
    "# Functional API\n",
    "# def one_hot(x):\n",
    "#     onehot=tf.one_hot(indices=x,depth=8000,on_value=1, off_value=0)\n",
    "#     return onehot\n",
    "\n",
    "# inputs = tf.keras.Input(shape=(60000,20))\n",
    "\n",
    "# one_hot = tf.keras.layers.Lambda(one_hot, output_shape=(60000,20,8000))\n",
    "\n",
    "# x = one_hot(inputs)\n",
    "\n",
    "# x = tf.keras.layers.LSTM(LSTM_units, return_sequences=True)(x)\n",
    "\n",
    "# outputs = tf.keras.layers.Dense(output_dim,activation='sigmoid')(x)\n",
    "\n",
    "# model = keras.Model(inputs=inputs, outputs=outputs, name=\"mymodel\")\n",
    "# model.summary()\n",
    "\n",
    "# keras.utils.plot_model(model, \"mymodel.png\")\n",
    "###################################################\n",
    "# END TODO                                        #\n",
    "###################################################"
   ]
  },
  {
   "cell_type": "markdown",
   "metadata": {
    "id": "IBiLRGc7RL-g"
   },
   "source": [
    "## **Part 2: Embedding Lookup layer**\n",
    "\n",
    "**Define an embedding layer**\n",
    "\n",
    "It's not hard to imagine in the previous practices, the input we fed in are very sparse because each word was represented as a one-hot vector. This makes it difficult for the network to understand what story the input data is telling.\n",
    "\n",
    "Word embedding: instead of using a one-hot vector to represent each word, we can add an word embedding matrix in which each word is represented as a low-dimensional vector. Note that this representation is not sparse any more, because we're working in a continuous vector space now. Words that share similar/related semantic meaning should be 'close to each other' in this vector space (we could define a distance measure to estimate the closeness).\n",
    "\n",
    "**TODO**: Define a similar model as above with one change. Use an Embedding layer instead of one hot embedding. Also, write a custom training loop to train the model instead of using model.fit(). Writing a custom loop gives you complete control over how the model is trained. Refer to the link below.\n",
    "\n",
    "https://www.tensorflow.org/guide/keras/writing_a_training_loop_from_scratch\n",
    "\n",
    "Report loss and accuracy for training and validation after each epoch. Also, display the loss value after every 400 steps. \n",
    "\n",
    "Do you see any difference in accuracy? What about training time? What inference can you draw?\n"
   ]
  },
  {
   "cell_type": "markdown",
   "metadata": {
    "id": "FiDynRCc_mqN"
   },
   "source": [
    "Solution:"
   ]
  },
  {
   "cell_type": "code",
   "execution_count": 7,
   "metadata": {},
   "outputs": [
    {
     "name": "stdout",
     "output_type": "stream",
     "text": [
      "KerasTensor(type_spec=TensorSpec(shape=(None, 20), dtype=tf.float32, name='input_5'), name='input_5', description=\"created by layer 'input_5'\")\n",
      "KerasTensor(type_spec=TensorSpec(shape=(None, 20, 10), dtype=tf.float32, name=None), name='embedding_4/embedding_lookup/Identity_1:0', description=\"created by layer 'embedding_4'\")\n",
      "\n",
      "Start of epoch 0\n",
      "Training loss (for one batch) at step 0: 0.6931\n",
      "Seen so far: 64 samples\n",
      "Training loss (for one batch) at step 400: 0.6246\n",
      "Seen so far: 25664 samples\n",
      "Training loss (for one batch) at step 800: 0.6080\n",
      "Seen so far: 51264 samples\n",
      "Training acc over epoch: 0.6319\n",
      "Validation acc: 0.6901\n",
      "Time taken: 50.96s\n",
      "\n",
      "Start of epoch 1\n",
      "Training loss (for one batch) at step 0: 0.5729\n",
      "Seen so far: 64 samples\n",
      "Training loss (for one batch) at step 400: 0.5434\n",
      "Seen so far: 25664 samples\n",
      "Training loss (for one batch) at step 800: 0.5825\n",
      "Seen so far: 51264 samples\n",
      "Training acc over epoch: 0.7144\n",
      "Validation acc: 0.7038\n",
      "Time taken: 50.55s\n",
      "\n",
      "Start of epoch 2\n",
      "Training loss (for one batch) at step 0: 0.5411\n",
      "Seen so far: 64 samples\n",
      "Training loss (for one batch) at step 400: 0.5427\n",
      "Seen so far: 25664 samples\n",
      "Training loss (for one batch) at step 800: 0.5831\n",
      "Seen so far: 51264 samples\n",
      "Training acc over epoch: 0.7323\n",
      "Validation acc: 0.7071\n",
      "Time taken: 50.27s\n",
      "\n",
      "Start of epoch 3\n",
      "Training loss (for one batch) at step 0: 0.4909\n",
      "Seen so far: 64 samples\n",
      "Training loss (for one batch) at step 400: 0.4395\n",
      "Seen so far: 25664 samples\n",
      "Training loss (for one batch) at step 800: 0.5357\n",
      "Seen so far: 51264 samples\n",
      "Training acc over epoch: 0.7409\n",
      "Validation acc: 0.7112\n",
      "Time taken: 50.51s\n",
      "\n",
      "Start of epoch 4\n",
      "Training loss (for one batch) at step 0: 0.4860\n",
      "Seen so far: 64 samples\n",
      "Training loss (for one batch) at step 400: 0.5809\n",
      "Seen so far: 25664 samples\n",
      "Training loss (for one batch) at step 800: 0.5062\n",
      "Seen so far: 51264 samples\n",
      "Training acc over epoch: 0.7471\n",
      "Validation acc: 0.7106\n",
      "Time taken: 50.59s\n",
      "\n",
      "Start of epoch 5\n",
      "Training loss (for one batch) at step 0: 0.5575\n",
      "Seen so far: 64 samples\n",
      "Training loss (for one batch) at step 400: 0.5658\n",
      "Seen so far: 25664 samples\n",
      "Training loss (for one batch) at step 800: 0.5139\n",
      "Seen so far: 51264 samples\n",
      "Training acc over epoch: 0.7513\n",
      "Validation acc: 0.7114\n",
      "Time taken: 50.24s\n",
      "\n",
      "Start of epoch 6\n",
      "Training loss (for one batch) at step 0: 0.4387\n",
      "Seen so far: 64 samples\n",
      "Training loss (for one batch) at step 400: 0.4571\n",
      "Seen so far: 25664 samples\n",
      "Training loss (for one batch) at step 800: 0.5232\n",
      "Seen so far: 51264 samples\n",
      "Training acc over epoch: 0.7544\n",
      "Validation acc: 0.7094\n",
      "Time taken: 51.08s\n",
      "\n",
      "Start of epoch 7\n",
      "Training loss (for one batch) at step 0: 0.4518\n",
      "Seen so far: 64 samples\n",
      "Training loss (for one batch) at step 400: 0.6233\n",
      "Seen so far: 25664 samples\n",
      "Training loss (for one batch) at step 800: 0.4746\n",
      "Seen so far: 51264 samples\n",
      "Training acc over epoch: 0.7569\n",
      "Validation acc: 0.7129\n",
      "Time taken: 50.52s\n",
      "\n",
      "Start of epoch 8\n",
      "Training loss (for one batch) at step 0: 0.4765\n",
      "Seen so far: 64 samples\n",
      "Training loss (for one batch) at step 400: 0.4886\n",
      "Seen so far: 25664 samples\n",
      "Training loss (for one batch) at step 800: 0.4784\n",
      "Seen so far: 51264 samples\n",
      "Training acc over epoch: 0.7585\n",
      "Validation acc: 0.7110\n",
      "Time taken: 50.91s\n",
      "\n",
      "Start of epoch 9\n",
      "Training loss (for one batch) at step 0: 0.3928\n",
      "Seen so far: 64 samples\n",
      "Training loss (for one batch) at step 400: 0.6653\n",
      "Seen so far: 25664 samples\n",
      "Training loss (for one batch) at step 800: 0.4909\n",
      "Seen so far: 51264 samples\n",
      "Training acc over epoch: 0.7598\n",
      "Validation acc: 0.7077\n",
      "Time taken: 50.80s\n"
     ]
    }
   ],
   "source": [
    "output_dim = 1\n",
    "embedding_dim = 32\n",
    "LSTM_units = 100\n",
    "\n",
    "inputs = tf.keras.Input(shape=(20,))\n",
    "print(inputs)\n",
    "embedding=tf.keras.layers.Embedding(input_dim=7598,output_dim=10)(inputs)\n",
    "print(embedding)\n",
    "x = tf.keras.layers.LSTM(100, return_sequences=True)(embedding)\n",
    "outputs = tf.keras.layers.Dense(output_dim,activation='sigmoid')(x)\n",
    "model = tf.keras.Model(inputs=inputs, outputs=outputs)\n",
    "\n",
    "######################################################################################################\n",
    "\n",
    "# Instantiate an optimizer.\n",
    "optimizer = tf.keras.optimizers.Adam(learning_rate=0.0001, beta_1=0.9, beta_2=0.999, epsilon=1e-07)\n",
    "# Instantiate a loss function.\n",
    "loss_fn = tf.keras.losses.BinaryCrossentropy()\n",
    "\n",
    "train_acc_metric = tf.keras.metrics.BinaryAccuracy()\n",
    "val_acc_metric = tf.keras.metrics.BinaryAccuracy()\n",
    "\n",
    "# Prepare the training dataset.\n",
    "batch_size = 64\n",
    "x_train = train_tweets\n",
    "y_train = train_labels.reshape((-1,1))\n",
    "\n",
    "# Reserve 10,000 samples for validation.\n",
    "x_val = test_tweets\n",
    "y_val = test_labels.reshape((-1,1))\n",
    "\n",
    "# Prepare the training dataset.\n",
    "train_dataset = tf.data.Dataset.from_tensor_slices((x_train, y_train))\n",
    "train_dataset = train_dataset.shuffle(buffer_size=1024).batch(batch_size)\n",
    "\n",
    "# Prepare the validation dataset.\n",
    "val_dataset = tf.data.Dataset.from_tensor_slices((x_val, y_val))\n",
    "val_dataset = val_dataset.batch(batch_size)\n",
    "\n",
    "######################################################################################################\n",
    "\n",
    "epochs = 10\n",
    "for epoch in range(epochs):\n",
    "    print(\"\\nStart of epoch %d\" % (epoch,))\n",
    "    start_time = time.time()\n",
    "\n",
    "    # Iterate over the batches of the dataset.\n",
    "    for step, (x_batch_train, y_batch_train) in enumerate(train_dataset):\n",
    "        with tf.GradientTape() as tape:\n",
    "            logits = model(x_batch_train, training=True)\n",
    "            loss_value = loss_fn(y_batch_train, logits)\n",
    "        grads = tape.gradient(loss_value, model.trainable_weights)\n",
    "        optimizer.apply_gradients(zip(grads, model.trainable_weights))\n",
    "\n",
    "        # Update training metric.\n",
    "        train_acc_metric.update_state(y_batch_train, logits)\n",
    "\n",
    "        # Log every 400 batches.\n",
    "        if step % 400 == 0:\n",
    "            print(\n",
    "                \"Training loss (for one batch) at step %d: %.4f\"\n",
    "                % (step, float(loss_value))\n",
    "            )\n",
    "            print(\"Seen so far: %d samples\" % ((step + 1) * batch_size))\n",
    "\n",
    "    # Display metrics at the end of each epoch.\n",
    "    train_acc = train_acc_metric.result()\n",
    "    print(\"Training acc over epoch: %.4f\" % (float(train_acc),))\n",
    "\n",
    "    # Reset training metrics at the end of each epoch\n",
    "    train_acc_metric.reset_states()\n",
    "\n",
    "    # Run a validation loop at the end of each epoch.\n",
    "    for x_batch_val, y_batch_val in val_dataset:\n",
    "        val_logits = model(x_batch_val, training=False)\n",
    "        # Update val metrics\n",
    "        val_acc_metric.update_state(y_batch_val, val_logits)\n",
    "    val_acc = val_acc_metric.result()\n",
    "    val_acc_metric.reset_states()\n",
    "    print(\"Validation acc: %.4f\" % (float(val_acc),))\n",
    "    print(\"Time taken: %.2fs\" % (time.time() - start_time))"
   ]
  },
  {
   "cell_type": "markdown",
   "metadata": {
    "id": "o9WYOKJtUwe5"
   },
   "source": [
    "## **!!!!!!!!!!!!!!!!!!!!!!!!Questions&Answers!!!!!!!!!!!!!!!!!!!!!!!!!!!** \n",
    "*Do you see any difference in accuracy? \n",
    "Ideally and theoretically, the accuracy of Embedding method will be slightly higher than one_hot, while in this task, the accuracy of them are almost same, equal to 75 percent, the accuracy in two cases can be improved with better hyperparameters settings.\n",
    "\n",
    "*What about training time? \n",
    "Training time of Embedding method is slightly longer than one_hot, this may because the custom training loop is immature compared with the Keras built-in model.fit.\n",
    "\n",
    "*What inference can you draw?\n",
    "I would prefer to use embedding because: The input fed in onehot are very sparse because each word was represented as a one-hot vector this makes it difficult for the network to understand what story the input data is telling. Instead of using a one-hot vector to represent each word, embedding add an word embedding matrix, in which each word is represented as a low-dimensional vector. And this kind of representation is not sparse any more, on the contrary, in a continuous vector space. "
   ]
  },
  {
   "cell_type": "markdown",
   "metadata": {
    "id": "o9WYOKJtUwe5"
   },
   "source": [
    "## **TODO:**  **Visualize word vectors via tSNE**\n",
    "\n",
    "First, you need to retrieve embedding matrix from the network. Then use tSNE to reduce each low-dimensional word vector into a 2D vector.\n",
    "\n",
    "And then, you should visualize some interesting word pairs in 2D panel. You may find scatter function in matplotlib.pyplot useful.\n",
    "\n",
    "Hint: You can use TSNE tool provided in scikit-learn. And if you encounter dead kernel problem caused by \"Intel MKL FATAL ERROR: Cannot load libmkl_avx.so or libmkl_def.so\", please reinstall scikit-learn without MKL, ie., conda install nomkl numpy scipy scikit-learn numexpr.\n",
    "\n",
    "Here we provide some word pairs for you, like female-male or country-capital. And you can observe that these word-pair will look parallel with each other in a 2D tSNE panel. And you can find some other words and explore their relationship.\n",
    "\n",
    "You will observe that king-men and queen-women are parallel to each other in a 2D panel.."
   ]
  },
  {
   "cell_type": "code",
   "execution_count": 12,
   "metadata": {},
   "outputs": [],
   "source": [
    "import gensim\n",
    "# Need the interactive Tools for Matplotlib\n",
    "%matplotlib notebook\n",
    "import numpy as np\n",
    "import matplotlib.pyplot as plt\n",
    "from sklearn.manifold import TSNE"
   ]
  },
  {
   "cell_type": "code",
   "execution_count": 13,
   "metadata": {},
   "outputs": [
    {
     "data": {
      "text/plain": [
       "'/home/ecbm4040/e4040-2021fall-assign3-hl3515'"
      ]
     },
     "execution_count": 13,
     "metadata": {},
     "output_type": "execute_result"
    }
   ],
   "source": [
    "pwd"
   ]
  },
  {
   "cell_type": "code",
   "execution_count": 15,
   "metadata": {},
   "outputs": [],
   "source": [
    "# load pre-trained word2vec embeddings\n",
    "# The embeddings can be downloaded from command prompt:\n",
    "# wget -c \"https://s3.amazonaws.com/dl4j-distribution/GoogleNews-vectors-negative300.bin.gz\"\n",
    "#model = gensim.models.KeyedVectors.load_word2vec_format('/home/ecbm4040/e4040-2021fall-assign3-hl3515/TSNE/GoogleNews-vectors-negative300.bin.gz', binary=True)"
   ]
  },
  {
   "cell_type": "code",
   "execution_count": 64,
   "metadata": {},
   "outputs": [
    {
     "name": "stdout",
     "output_type": "stream",
     "text": [
      "['men', 'women', 'king', 'queen', 'spain', 'madrid', 'italy', 'rome', 'japan', 'tokyo']\n"
     ]
    }
   ],
   "source": [
    "female_male = [\"men\", \"women\", \"king\", \"queen\"]\n",
    "country_capital = [\"spain\", \"madrid\", \"italy\", \"rome\", \"japan\", \"tokyo\"]\n",
    "wordlist=female_male+country_capital\n",
    "print(wordlist)\n",
    "#print(model['apple'])"
   ]
  },
  {
   "cell_type": "code",
   "execution_count": 65,
   "metadata": {
    "id": "aVZwhreIVlk0"
   },
   "outputs": [
    {
     "data": {
      "image/png": "[encoded data removed]",
      "text/plain": [
       "<Figure size 432x288 with 1 Axes>"
      ]
     },
     "metadata": {
      "needs_background": "light"
     },
     "output_type": "display_data"
    }
   ],
   "source": [
    "###################################################\n",
    "# TODO: Visualize word vectors using TSNE.        #\n",
    "#                                                 #\n",
    "###################################################\n",
    "\n",
    "def display_TSNE(model, wordlist):\n",
    "    \n",
    "    arr = np.empty((0,300), dtype='f')\n",
    "    word_labels = wordlist\n",
    "    for word in wordlist:\n",
    "        word_vector = model[word]\n",
    "        arr = np.append(arr, np.array([word_vector]), axis=0)\n",
    "        \n",
    "    # find tsne coords for 2 dimensions\n",
    "    tsne = TSNE(n_components=2, random_state=0)\n",
    "    np.set_printoptions(suppress=True)\n",
    "    Y = tsne.fit_transform(arr)\n",
    "\n",
    "    x_coords = Y[:, 0]\n",
    "    y_coords = Y[:, 1]\n",
    "    # display scatter plot\n",
    "    plt.scatter(x_coords, y_coords)\n",
    "\n",
    "    for label, x, y in zip(word_labels, x_coords, y_coords):\n",
    "        plt.annotate(label, xy=(x, y), xytext=(0, 0), textcoords='offset points')\n",
    "    plt.xlim(x_coords.min()+0.00005, x_coords.max()+0.00005)\n",
    "    plt.ylim(y_coords.min()+0.00005, y_coords.max()+0.00005)\n",
    "    plt.show()\n",
    "    \n",
    "display_TSNE(model,wordlist)\n",
    "###################################################\n",
    "# END TODO                                        #\n",
    "###################################################"
   ]
  }
 ],
 "metadata": {
  "accelerator": "GPU",
  "colab": {
   "name": "Assignment_3_task_2_final.ipynb",
   "provenance": []
  },
  "kernelspec": {
   "display_name": "Python 3",
   "language": "python",
   "name": "python3"
  },
  "language_info": {
   "codemirror_mode": {
    "name": "ipython",
    "version": 3
   },
   "file_extension": ".py",
   "mimetype": "text/x-python",
   "name": "python",
   "nbconvert_exporter": "python",
   "pygments_lexer": "ipython3",
   "version": "3.6.9"
  }
 },
 "nbformat": 4,
 "nbformat_minor": 4
}
