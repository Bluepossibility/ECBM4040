{
 "cells": [
  {
   "cell_type": "markdown",
   "metadata": {},
   "source": [
    "## Columbia University\n",
    "### ECBM E4040 Neural Networks and Deep Learning. Fall 2021.\n"
   ]
  },
  {
   "cell_type": "markdown",
   "metadata": {},
   "source": [
    "# Assignment 1"
   ]
  },
  {
   "cell_type": "markdown",
   "metadata": {},
   "source": [
    "This assignment consists of 3 programming tasks covering __basic classification problems, numpy and tensorflow implementations for multi-layer-perceptron (MLP) and a dimension reduction practice (t-SNE).__ Task 4 contains non-programming questions. For those who are not familiar with Python programming or machine learning, we suggest that you start the assignment as soon as possible. \n",
    "\n",
    "In this notebook, we provide the skeleton code. You need to fill in the <span style=\"color:red\"><strong>TODO</strong></span> sections with code, run them and capture the results within your copy of the notebook which includes the solutions. So pay attention to any <span style=\"color:red\"><strong>TODOs</strong></span>.\n",
    "\n",
    "\n",
    "## Task 1: basic_classifers.ipynb (25%)\n",
    "Experiments with two classic classification methods: Logistic regression classifier and Softmax classifier. \n",
    "\n",
    "## Task 2: mlp_numpy.ipynb (40%)\n",
    "In this task, you are going to first create a two-layer neural network and then a multi-layer-perceptron (MLP) using numpy. It is designed to help you understand how backpropagation works.\n",
    "\n",
    "## Task 3: mlp_tensorflow.ipynb (25%)\n",
    "In this task, you will create the same MLP network that you created in task 2, but with tensforflow library this time. Also, look out for bonus points in this section.\n",
    "\n",
    "## Task 4: Questions (10%)\n",
    "In this task, you need to answer questions related to the programming tasks above and to machine learning basics.\n",
    "\n",
    "## Submission Requirements\n",
    "\n",
    "1. Print or plot your results in the form of cell outputs of the Jupyter notebook, and save them.\n",
    "\n",
    "2. For task 2 (MLP), save your best model as a **.pkl** file in the directory  **./save_models/**. \n",
    "\n",
    "3. <span style=\"color:red\">Don't upload any dataset files!</span> Note: that is managed through .gitignore file.\n",
    "\n",
    "4. The details of homework submission upload will be announced in the due course. \n"
   ]
  },
  {
   "cell_type": "code",
   "execution_count": null,
   "metadata": {},
   "outputs": [],
   "source": []
  }
 ],
 "metadata": {
  "kernelspec": {
   "display_name": "Python 3",
   "language": "python",
   "name": "python3"
  },
  "language_info": {
   "codemirror_mode": {
    "name": "ipython",
    "version": 3
   },
   "file_extension": ".py",
   "mimetype": "text/x-python",
   "name": "python",
   "nbconvert_exporter": "python",
   "pygments_lexer": "ipython3",
   "version": "3.7.9"
  }
 },
 "nbformat": 4,
 "nbformat_minor": 4
}
