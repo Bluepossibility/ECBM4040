{
 "cells": [
  {
   "cell_type": "markdown",
   "metadata": {},
   "source": [
    "## Columbia University\n",
    "### ECBM E4040 Neural Networks and Deep Learning. Fall 2021."
   ]
  },
  {
   "cell_type": "markdown",
   "metadata": {},
   "source": [
    "# ECBM E4040 2021 Assignment 2"
   ]
  },
  {
   "cell_type": "markdown",
   "metadata": {},
   "source": [
    "## Task 1: Optimizers (15%)\n",
    "\n",
    "Complete **task1-optimization.ipynb**. Previously, we have covered the Stochastic Gradient Descent (SGD) optimization method. More complex methods are covered in this task, and you are asked to implement the following methods in NumPy: __SGD with Momentum, Adagrad, Adam and Nadam__."
   ]
  },
  {
   "cell_type": "markdown",
   "metadata": {},
   "source": [
    "## Task 2: Regularization (20%)\n",
    "\n",
    "Complete **task2-regularization.ipynb**. To efficiently train a good neural network, a suitable optimizer is important but not enough. Another important consideration is the selection of good initialization values for ANN parameters, which may help the model to not overfit. This task addresses some of the regularization methods, such as **Dropout** and **Batch Normalization**. You will implement these two methods in NumPy."
   ]
  },
  {
   "cell_type": "markdown",
   "metadata": {},
   "source": [
    "## Task 3: Convolutional Neural Network (CNN) (30%)\n",
    "\n",
    "Complete **task3-cnn.ipynb**. In contrast to the Multi-Layer Perceptron (ML) or fully-connected (FC) nets, Convolutional Neural Networks are a more powerful tool often used in the field of computer vision. In this task, you are going to create a CNN using the Keras API in TensorFlow."
   ]
  },
  {
   "cell_type": "markdown",
   "metadata": {},
   "source": [
    "## Task 4: Data Augmentation (15%)\n",
    "\n",
    "Complete **task4-augmentation.ipynb**. Data augmentation is very useful for CNNs as it can enrich the current dataset by enlarging it using various operations on the original data samples. It can lead to enhanced performance in neural networks. You will write a data generator which does several data augmentations on your dataset."
   ]
  },
  {
   "cell_type": "markdown",
   "metadata": {},
   "source": [
    "## Task 5: Bottle Kaggle Competition (20%)\n",
    "\n",
    "Do the task described in the **task5-kaggle.ipynb**. This requires you to join an in-class Kaggle competition and compete with your classmates on the \"bottle classification problem\". You need to keep updating your CNN in iterations to get the best possible result. Kaggle will enable you to observe the progress made by students in the class. You can use any/all of the deep learning modelling techniques (e.g. regularization, optimization) to get the best possible performance. You have to use TensorFlow 2.4 to build your model."
   ]
  }
 ],
 "metadata": {
  "anaconda-cloud": {},
  "kernelspec": {
   "display_name": "Python 3",
   "language": "python",
   "name": "python3"
  },
  "language_info": {
   "codemirror_mode": {
    "name": "ipython",
    "version": 3
   },
   "file_extension": ".py",
   "mimetype": "text/x-python",
   "name": "python",
   "nbconvert_exporter": "python",
   "pygments_lexer": "ipython3",
   "version": "3.6.9"
  }
 },
 "nbformat": 4,
 "nbformat_minor": 4
}
