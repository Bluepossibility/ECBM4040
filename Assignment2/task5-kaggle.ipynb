{
 "cells": [
  {
   "cell_type": "markdown",
   "metadata": {},
   "source": [
    "## Columbia University\n",
    "### ECBM E4040 Neural Networks and Deep Learning. Fall 2021."
   ]
  },
  {
   "cell_type": "markdown",
   "metadata": {},
   "source": [
    "# ECBM E4040 - Assignment 2- Task 5: Kaggle Open-ended Competition\n",
    "\n",
    "Kaggle is a platform for predictive modelling and analytics competitions in which companies and researchers post data and statisticians and data miners compete to produce the best models for predicting and describing the data.\n",
    "\n",
    "If you don't have a Kaggle account, feel free to join at [www.kaggle.com](https://www.kaggle.com). To let the CAs do the grading more conveniently, please __use Lionmail to join Kaggle__ and __use UNI as your username__.\n",
    "\n",
    "The competition is located here: https://www.kaggle.com/c/ecbm4040-assignment-2-task-5/overview.\n",
    "\n",
    "You can find detailed description about this in-class competition on the website above. Please read carefully and follow the instructions.\n",
    "\n",
    "<span style=\"color:red\">__TODO__:</span>\n",
    "1. Train a custom model for the bottle dataset classification problem. You are free to use any methods taught in the class or found by yourself on the Internet (ALWAYS provide reference to the source).\n",
    "General training methods include:\n",
    "    * Dropout\n",
    "    * Batch normalization\n",
    "    * Early stopping\n",
    "    * l1-norm & l2-norm penalization\n",
    "    \n",
    "2. You are given the test set to generate your predictions (70% public + 30% private, but you don't know which ones are public/private). Students should achieve an accuracy on the public test set of at least 70%. Two points will be deducted for each 1% below 70% accuracy threshold (i.e. 65% accuracy will have 10 points deducted). The accuracy will be shown on the public leaderboard once you submit your prediction .csv file. The private leaderboard will be released after the competition. The final ranking is based on the private leaderboard result, not the public leaderboard.\n",
    "3. \n",
    "\n",
    "    * Report your results on the Kaggle, for comparison with other students' optimal results (you can do this several times). \n",
    "    * Save your best model, using Github Classroom, at the same time when you submit the homework files into Courseworks. See instructions below. \n",
    "\n",
    "__Hint__: You can start from what you implemented in task 4. Another classic classification model named 'VGG16' can also be easily implemented. Students are allowed to use pretrained networks, and utilize transfer learning. "
   ]
  },
  {
   "cell_type": "markdown",
   "metadata": {},
   "source": [
    "## HW Submission Details:\n",
    "There are three components to reporting the results of this task: \n",
    "\n",
    "**(A) Submission (up to 20 submissions each day) of the .csv prediction file throught the Kaggle platform;**. You should start doing this __VERY early__, so that students can compare their work as they are making progress with model optimization.\n",
    "\n",
    "**(B) Editing and submitting the content of this Jupyter notebook, through Courseworks; **\n",
    "(i) The code for your CNN model and for the training function. The code should be stored in __./ecbm4040/neuralnets/kaggle.py__;\n",
    "(ii) Print out your training process and accuracy __within this notebook__;\n",
    "\n",
    "**(C) Submitting your best CNN model through Github Classroom repo.**\n",
    "\n",
    "**Description of (C):** \n",
    "For this task, we will continue to use Github classroom to save your model for submission. \n",
    "\n",
    "<span style=\"color:red\">__Submission content:__ :</span>\n",
    "(i) In your Assignment 2 submission folder, create a subfolder called __KaggleModel__. Upload your best model with all the data output (for example, __MODEL.data-00000-of-00001, MODEL.meta, MODEL.index__) into the folder. \n",
    "(ii) Remember to delete any intermediate results, **we only want your best model. Do not upload any data files**. The instructors will rerun the uploaded best model and verify against the score which you reported on the Kaggle.\n",
    "\n"
   ]
  },
  {
   "cell_type": "code",
   "execution_count": null,
   "metadata": {},
   "outputs": [],
   "source": [
    "%load_ext autoreload\n",
    "%autoreload 2"
   ]
  },
  {
   "cell_type": "code",
   "execution_count": 26,
   "metadata": {},
   "outputs": [],
   "source": [
    "#import zipfile as zf\n",
    "#files = zf.ZipFile('/home/ecbm4040/e4040-2021fall-assign2-hl3515/data/ecbm4040-assignment-2-task-5.zip', 'r')\n",
    "#files.extractall('/home/ecbm4040/e4040-2021fall-assign2-hl3515/data/Kaggle')\n",
    "#files.close()"
   ]
  },
  {
   "cell_type": "markdown",
   "metadata": {},
   "source": [
    "## Load Data"
   ]
  },
  {
   "cell_type": "code",
   "execution_count": 1,
   "metadata": {
    "tags": []
   },
   "outputs": [
    {
     "name": "stdout",
     "output_type": "stream",
     "text": [
      "Reading folder 1\n",
      "Reading folder 3\n",
      "Reading folder 0\n",
      "Reading folder 2\n",
      "Reading folder 4\n",
      "Reading Test Images\n",
      "Training data shape:  (15000, 128, 128, 3)\n",
      "Training labels shape:  (15000,)\n",
      "Test data shape:  (3500, 128, 128, 3)\n"
     ]
    }
   ],
   "source": [
    "#Generate dataset\n",
    "import os\n",
    "import pandas as pd\n",
    "import numpy as np\n",
    "from PIL import Image\n",
    "\n",
    "#Load Training images and labels\n",
    "path = os.getcwd()\n",
    "train_directory =\"/home/ecbm4040/e4040-2021fall-assign2-hl3515/data/Kaggle/kaggle_train_128/train_128\" #TODO: Enter path for train128 folder (hint: use os.getcwd())\n",
    "image_list=[]\n",
    "label_list=[]\n",
    "for sub_dir in os.listdir(train_directory):\n",
    "    print(\"Reading folder {}\".format(sub_dir))\n",
    "    sub_dir_name=os.path.join(train_directory,sub_dir)\n",
    "    for file in os.listdir(sub_dir_name):\n",
    "        filename = os.fsdecode(file)\n",
    "        if filename.endswith(\".jpg\") or filename.endswith(\".png\"):\n",
    "            image_list.append(np.array(Image.open(os.path.join(sub_dir_name,file))))\n",
    "            label_list.append(int(sub_dir))\n",
    "X_train=np.array(image_list)\n",
    "y_train=np.array(label_list)\n",
    "\n",
    "#Load Test images\n",
    "test_directory = \"/home/ecbm4040/e4040-2021fall-assign2-hl3515/data/Kaggle/kaggle_test_128/test_128\"#TODO: Enter path for test128 folder (hint: use os.getcwd())\n",
    "test_image_list=[]\n",
    "test_df = pd.DataFrame([], columns=['Id', 'X'])\n",
    "print(\"Reading Test Images\")\n",
    "for file in os.listdir(test_directory):\n",
    "    filename = os.fsdecode(file)\n",
    "    if filename.endswith(\".jpg\") or filename.endswith(\".png\"):\n",
    "        test_df = test_df.append({\n",
    "            'Id': filename,\n",
    "            'X': np.array(Image.open(os.path.join(test_directory,file)))\n",
    "        }, ignore_index=True)\n",
    "        \n",
    "test_df['s'] = [int(x.split('.')[0]) for x in test_df['Id']]\n",
    "test_df = test_df.sort_values(by=['s'])\n",
    "test_df = test_df.drop(columns=['s'])\n",
    "X_test = np.stack(test_df['X'])\n",
    "\n",
    "\n",
    "print('Training data shape: ', X_train.shape)\n",
    "print('Training labels shape: ', y_train.shape)\n",
    "print('Test data shape: ', X_test.shape)"
   ]
  },
  {
   "cell_type": "markdown",
   "metadata": {},
   "source": [
    "## Build and Train Your Model Here"
   ]
  },
  {
   "cell_type": "code",
   "execution_count": 3,
   "metadata": {},
   "outputs": [],
   "source": [
    "#from utils.neuralnets.cnn.my_Kaggle_trainer import MyKaggle_trainer"
   ]
  },
  {
   "cell_type": "code",
   "execution_count": 15,
   "metadata": {},
   "outputs": [
    {
     "name": "stdout",
     "output_type": "stream",
     "text": [
      "data shape:  (15000, 128, 128, 3)\n",
      "labels shape:  (15000,)\n"
     ]
    }
   ],
   "source": [
    "print('data shape: ', X_train.shape)\n",
    "print('labels shape: ', y_train.shape)"
   ]
  },
  {
   "cell_type": "code",
   "execution_count": 2,
   "metadata": {},
   "outputs": [
    {
     "name": "stdout",
     "output_type": "stream",
     "text": [
      "Training data shape:  (14000, 128, 128, 3)\n",
      "Training labels shape:  (14000,)\n",
      "Training data shape:  (1000, 128, 128, 3)\n",
      "Training data shape:  (1000,)\n",
      "Test data shape:  (3500, 128, 128, 3)\n"
     ]
    }
   ],
   "source": [
    "num_train=14000\n",
    "X_trainSet = X_train[:num_train]\n",
    "y_trainSet = y_train[:num_train]\n",
    "X_valSet = X_train[num_train:]\n",
    "y_valSet = y_train[num_train:]\n",
    "print('Training data shape: ', X_trainSet.shape)\n",
    "print('Training labels shape: ', y_trainSet.shape)\n",
    "print('Training data shape: ', X_valSet.shape)\n",
    "print('Training data shape: ', y_valSet.shape)\n",
    "print('Test data shape: ', X_test.shape)"
   ]
  },
  {
   "cell_type": "code",
   "execution_count": 4,
   "metadata": {},
   "outputs": [
    {
     "name": "stdout",
     "output_type": "stream",
     "text": [
      "Number of classes: 5\n"
     ]
    }
   ],
   "source": [
    "print(\"Number of classes: {}\".format(len(set(y_train))))"
   ]
  },
  {
   "cell_type": "code",
   "execution_count": null,
   "metadata": {},
   "outputs": [],
   "source": [
    "#My_Kaggle = MyKaggle_trainer(X_train, y_train, X_test, epochs=10, batch_size=256, lr=0.001)\n",
    "#MyKaggle_trainer.run(My_Kaggle)"
   ]
  },
  {
   "cell_type": "code",
   "execution_count": 5,
   "metadata": {},
   "outputs": [],
   "source": [
    "# YOUR CODE HERE\n",
    "import tensorflow as tf\n",
    "from tensorflow.keras.preprocessing.image import ImageDataGenerator\n",
    "from tensorflow.keras.callbacks import ReduceLROnPlateau\n",
    "from tensorflow.keras.callbacks import EarlyStopping"
   ]
  },
  {
   "cell_type": "code",
   "execution_count": 7,
   "metadata": {},
   "outputs": [],
   "source": [
    "from utils.neuralnets.cnn.my_Kaggle import *\n",
    "model = create_model(lr = 1e-3)\n",
    "#model.summary()"
   ]
  },
  {
   "cell_type": "code",
   "execution_count": 8,
   "metadata": {},
   "outputs": [
    {
     "name": "stderr",
     "output_type": "stream",
     "text": [
      "/home/ecbm4040/envTF24/lib/python3.6/site-packages/tensorflow/python/keras/engine/training.py:1844: UserWarning: `Model.fit_generator` is deprecated and will be removed in a future version. Please use `Model.fit`, which supports generators.\n",
      "  warnings.warn('`Model.fit_generator` is deprecated and '\n"
     ]
    },
    {
     "name": "stdout",
     "output_type": "stream",
     "text": [
      "Epoch 1/25\n",
      "218/218 [==============================] - 66s 202ms/step - loss: 1.3469 - accuracy: 0.5153 - val_loss: 0.2890 - val_accuracy: 0.9080\n",
      "Epoch 2/25\n",
      "218/218 [==============================] - 44s 204ms/step - loss: 0.2585 - accuracy: 0.9165 - val_loss: 0.2061 - val_accuracy: 0.9330\n",
      "Epoch 3/25\n",
      "218/218 [==============================] - 43s 198ms/step - loss: 0.1386 - accuracy: 0.9557 - val_loss: 0.1671 - val_accuracy: 0.9450\n",
      "Epoch 4/25\n",
      "218/218 [==============================] - 43s 198ms/step - loss: 0.0911 - accuracy: 0.9697 - val_loss: 0.1748 - val_accuracy: 0.9430\n",
      "Epoch 5/25\n",
      "218/218 [==============================] - 43s 198ms/step - loss: 0.0635 - accuracy: 0.9797 - val_loss: 0.2593 - val_accuracy: 0.9290\n",
      "\n",
      "Epoch 00005: ReduceLROnPlateau reducing learning rate to 0.00010000000474974513.\n",
      "Epoch 6/25\n",
      "218/218 [==============================] - 43s 198ms/step - loss: 0.0479 - accuracy: 0.9840 - val_loss: 0.1984 - val_accuracy: 0.9460\n",
      "Epoch 7/25\n",
      "218/218 [==============================] - 43s 198ms/step - loss: 0.0481 - accuracy: 0.9843 - val_loss: 0.1916 - val_accuracy: 0.9500\n",
      "\n",
      "Epoch 00007: ReduceLROnPlateau reducing learning rate to 1.0000000474974514e-05.\n",
      "Epoch 8/25\n",
      "218/218 [==============================] - 43s 198ms/step - loss: 0.0503 - accuracy: 0.9846 - val_loss: 0.1855 - val_accuracy: 0.9510\n",
      "Epoch 9/25\n",
      "218/218 [==============================] - 43s 198ms/step - loss: 0.0476 - accuracy: 0.9852 - val_loss: 0.1922 - val_accuracy: 0.9490\n",
      "\n",
      "Epoch 00009: ReduceLROnPlateau reducing learning rate to 1.0000000656873453e-06.\n",
      "Epoch 10/25\n",
      "218/218 [==============================] - 43s 198ms/step - loss: 0.0500 - accuracy: 0.9845 - val_loss: 0.1846 - val_accuracy: 0.9510\n",
      "Epoch 11/25\n",
      "218/218 [==============================] - 43s 198ms/step - loss: 0.0486 - accuracy: 0.9857 - val_loss: 0.1943 - val_accuracy: 0.9490\n",
      "\n",
      "Epoch 00011: ReduceLROnPlateau reducing learning rate to 1e-06.\n",
      "Epoch 12/25\n",
      "218/218 [==============================] - 43s 199ms/step - loss: 0.0426 - accuracy: 0.9858 - val_loss: 0.1927 - val_accuracy: 0.9500\n",
      "Epoch 13/25\n",
      "218/218 [==============================] - 43s 199ms/step - loss: 0.0471 - accuracy: 0.9839 - val_loss: 0.1894 - val_accuracy: 0.9500\n",
      "Epoch 14/25\n",
      "218/218 [==============================] - 43s 199ms/step - loss: 0.0473 - accuracy: 0.9871 - val_loss: 0.1933 - val_accuracy: 0.9480\n",
      "Epoch 15/25\n",
      "218/218 [==============================] - 43s 198ms/step - loss: 0.0547 - accuracy: 0.9829 - val_loss: 0.1958 - val_accuracy: 0.9480\n",
      "Epoch 16/25\n",
      "218/218 [==============================] - 43s 198ms/step - loss: 0.0572 - accuracy: 0.9822 - val_loss: 0.1863 - val_accuracy: 0.9500\n",
      "Epoch 17/25\n",
      "218/218 [==============================] - 43s 198ms/step - loss: 0.0490 - accuracy: 0.9824 - val_loss: 0.1892 - val_accuracy: 0.9490\n",
      "Epoch 18/25\n",
      "218/218 [==============================] - 43s 198ms/step - loss: 0.0469 - accuracy: 0.9853 - val_loss: 0.1911 - val_accuracy: 0.9510\n",
      "Epoch 00018: early stopping\n"
     ]
    }
   ],
   "source": [
    "# Training process\n",
    "b_size = 64 \n",
    "num_epoch = 25 \n",
    "# Using early stop method reducing the Learning Rate if result is not getting better. \n",
    "eraly_stop = EarlyStopping(monitor='val_loss', min_delta=0.0001, patience=15, verbose=1, mode='auto')\n",
    "reduce_lr = ReduceLROnPlateau(monitor='val_loss', min_delta=0.0004, patience=2, factor=0.1, min_lr=1e-6, mode='auto', verbose=1)\n",
    "# Perform data augmentation\n",
    "train_datagen=ImageDataGenerator(preprocessing_function = preprocess_input) \n",
    "# Train the model\n",
    "train_generator = train_datagen.flow(X_trainSet, y_trainSet, batch_size = b_size)\n",
    "step_size_train = train_generator.n//train_generator.batch_size\n",
    "# Recording the training process\n",
    "history = model.fit_generator(generator = train_generator,\n",
    "                    steps_per_epoch = step_size_train,\n",
    "                    epochs = num_epoch,\n",
    "                    validation_data=(X_valSet, y_valSet),\n",
    "                    callbacks=[reduce_lr, eraly_stop]\n",
    "                   )"
   ]
  },
  {
   "cell_type": "markdown",
   "metadata": {},
   "source": [
    "## Save your best model"
   ]
  },
  {
   "cell_type": "code",
   "execution_count": 21,
   "metadata": {},
   "outputs": [
    {
     "name": "stdout",
     "output_type": "stream",
     "text": [
      "INFO:tensorflow:Assets written to: ./model/KaggleModel/assets\n"
     ]
    }
   ],
   "source": [
    "# YOUR CODE HERE\n",
    "model.save('./model/KaggleModel')"
   ]
  },
  {
   "cell_type": "markdown",
   "metadata": {},
   "source": [
    "## Generate .csv file for Kaggle\n",
    "\n",
    "The following code snippet can be used to generate your prediction .csv file.\n",
    "\n",
    "NOTE: If your kaggle results are indicating random performance, then it's likely that the indices of your csv predictions are misaligned."
   ]
  },
  {
   "cell_type": "code",
   "execution_count": 9,
   "metadata": {},
   "outputs": [
    {
     "name": "stderr",
     "output_type": "stream",
     "text": [
      "100%|██████████| 10/10 [00:27<00:00,  2.76s/it]\n"
     ]
    }
   ],
   "source": [
    "from tqdm import tqdm\n",
    "\n",
    "# test time augmentation, we set TTA for 10 times averaging.\n",
    "tta_steps = 10\n",
    "bs=25\n",
    "predictions = []\n",
    "test_datagen = ImageDataGenerator(preprocessing_function = preprocess_input)\n",
    "for i in tqdm(range(tta_steps)):\n",
    "    preds = model.predict(test_datagen.flow(X_test, batch_size=bs, shuffle=False), steps = len(X_test)/bs)\n",
    "    predictions.append(preds)"
   ]
  },
  {
   "cell_type": "code",
   "execution_count": 10,
   "metadata": {},
   "outputs": [
    {
     "name": "stdout",
     "output_type": "stream",
     "text": [
      "(3500, 128, 128, 3)\n",
      "10\n",
      "3500\n",
      "5\n",
      "4.687297e-06\n",
      "(3500,)\n",
      "[1 1 2 ... 3 3 4]\n"
     ]
    }
   ],
   "source": [
    "print(X_test.shape)\n",
    "print(len(predictions))\n",
    "print(len(predictions[0]))\n",
    "print(len(predictions[0][0]))\n",
    "print(predictions[0][0][0])\n",
    "pred = np.mean(predictions,axis=0)\n",
    "final_pred = np.argmax(pred,axis=1)\n",
    "final_pred.reshape(3500,-1)\n",
    "print(final_pred.shape)\n",
    "print(final_pred)"
   ]
  },
  {
   "cell_type": "code",
   "execution_count": 11,
   "metadata": {},
   "outputs": [],
   "source": [
    "import csv\n",
    "with open('predicted.csv','w') as csvfile:\n",
    "    fieldnames = ['Id','label']\n",
    "    writer = csv.DictWriter(csvfile, fieldnames=fieldnames)\n",
    "    writer.writeheader()\n",
    "    for index,l in enumerate(final_pred):\n",
    "        filename = str(index) + '.png'\n",
    "        label = str(l)\n",
    "        writer.writerow({'Id': filename, 'label': label})"
   ]
  },
  {
   "cell_type": "code",
   "execution_count": null,
   "metadata": {},
   "outputs": [],
   "source": []
  }
 ],
 "metadata": {
  "kernelspec": {
   "display_name": "Python 3",
   "language": "python",
   "name": "python3"
  },
  "language_info": {
   "codemirror_mode": {
    "name": "ipython",
    "version": 3
   },
   "file_extension": ".py",
   "mimetype": "text/x-python",
   "name": "python",
   "nbconvert_exporter": "python",
   "pygments_lexer": "ipython3",
   "version": "3.6.9"
  }
 },
 "nbformat": 4,
 "nbformat_minor": 4
}
