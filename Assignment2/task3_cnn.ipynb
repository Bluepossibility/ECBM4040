{
 "cells": [
  {
   "cell_type": "markdown",
   "metadata": {},
   "source": [
    "## Columbia University\n",
    "### ECBM E4040 Neural Networks and Deep Learning. Fall 2021."
   ]
  },
  {
   "cell_type": "markdown",
   "metadata": {},
   "source": [
    "# ECBM E4040 - Assignment 2 - Task 3: Convolutional Neural Network (CNN)\n",
    "\n",
    "In this task, you are going to first practice the forward/backward propagation of the convolutional operations with NumPy. After that, we will introduce TensorFlow with which you will create your CNN model for an image classification task. "
   ]
  },
  {
   "cell_type": "markdown",
   "metadata": {},
   "source": [
    "## CNNs:\n",
    "Convolutional neural networks (CNNs) are highly effective for image processing tasks. \n",
    "\n",
    "When one builds a MLP model, each connection is multiplied by its own weight. When the input dimension or the first layer is very large, we need a giant matrix to store the weights. This could easily become a problem in image processing since the dimension of a vectorized image could easily exceed 1000 (consider CIFAR-10 which has images of shape 32×32=1024, yet the resolution is so low). \n",
    "\n",
    "In CNN, the weights are shared: the same filter (also known as 'weights' or 'kernel') moves over the input, and at each position an output value is calculated. This means that the same weights are repetitively applied to the entire input, therefore saving a lot of memory.\n",
    "\n",
    "![Illustration of the CNN](./utils/notebook_images/task3_1.jpg)\n",
    "Image source: [here](https://developer.apple.com/library/content/documentation/Performance/Conceptual/vImage/ConvolutionOperations/ConvolutionOperations.html)\n",
    "\n",
    "__Convolution:__  In the picture above, the input is a 7-by-7 image, and the filter is shown as a blue 3-by-3 grid. The filter overlaps with the top-left corner of the input, and we perform an element-wise multiplication followed by a summation, then put the sum into the output matrix. The filter then moves several pixels right, covering a new input area so a new sum can be derived.\n",
    "\n",
    "__Training:__ One thing to remember is that there would be a lot of filters for each layer in a CNN, and the goal of training is to find the best filters for your task. Each filter tries to capture one specific feature. Typically, in the first convolutional layer which directly looks at your input, the filters try to capture information about color and edges which we know as local features; in higher layers, due to the effect of max-pooling, the receptive-fields of filters becomes large so more global and complex features can be detected. \n",
    "\n",
    "__Architecture:__ For classification tasks, a CNN usually starts with convolution commonly followed by either average-pooling or max-pooling. After that, the feature maps will be flattened so that we could append fully connected layers. Common activation functions include ReLu, ELU in the convolution layers, and softmax in the fully connected layers (to calculate the classification scores).\n",
    "\n",
    "---\n",
    "\n",
    "### Terminology\n",
    "\n",
    "* __Convolution__: element-wise multiplication followed by summation of your input and one of your filters in the CNN context.\n",
    "* __Filter/kernel/weights__: a grid or a set of grids typically smaller than your input size that moves over the input space to generate output. Each filter captures one type of feature.\n",
    "* __Feature/feature maps__: the output of a hidden layer. Think of it as another representation of your data. \n",
    "* __Pooling__: an downsampling operation that joins local information together, so the higher layers' receptive fields can be bigger. The most seen pooling operation is max-pooling, which outputs the maximum of all values inside the pool.\n",
    "* __Flatten__: a junction between convolution layers and fully connected layers. Used to turn 2-D feature maps into 1-D. For tasks such as image segmentation where the output also needs to be 2-D, this won't be used.\n",
    "* __Border mode__: usually refers to 'VALID' or 'SAME'. Under 'VALID' mode, only when the filter and the input fully overlap can a convolution be conducted; under 'SAME' mode, the output size is the same as the input size (only when the stride is 1), and when the filter and the input don't fully overlap (happens at the edge/corner of input) we pad zeroes (or other designated numbers) and then do convolution.\n",
    "\n",
    "If you would like to read more about CNNs, visit [this site](https://cs231n.github.io/convolutional-networks/)."
   ]
  },
  {
   "cell_type": "code",
   "execution_count": 1,
   "metadata": {},
   "outputs": [],
   "source": [
    "import numpy as np\n",
    "import tensorflow as tf"
   ]
  },
  {
   "cell_type": "code",
   "execution_count": 2,
   "metadata": {},
   "outputs": [
    {
     "name": "stdout",
     "output_type": "stream",
     "text": [
      "2.4.0\n"
     ]
    }
   ],
   "source": [
    "print(tf.__version__)"
   ]
  },
  {
   "cell_type": "code",
   "execution_count": 3,
   "metadata": {},
   "outputs": [
    {
     "data": {
      "text/plain": [
       "'/device:GPU:0'"
      ]
     },
     "execution_count": 3,
     "metadata": {},
     "output_type": "execute_result"
    }
   ],
   "source": [
    "tf.test.gpu_device_name()"
   ]
  },
  {
   "cell_type": "markdown",
   "metadata": {},
   "source": [
    "## Part 1: Getting a sense of convolution"
   ]
  },
  {
   "cell_type": "markdown",
   "metadata": {},
   "source": [
    "### conv2d feedforward\n",
    "\n",
    "Implement a NumPy naive 2-D convolution feedforward function. We ask you to simply do the element-wise multiplication and summation. Do not worry about the efficiency of your functions. Use as many loops as you like.\n",
    "\n",
    "<span style=\"color:red\">__TODO:__</span> Complete the function __conv2d_forward__ in __utils/layer_funcs.py__. After that, run the following cell blocks in Jupyter notebook, which will give the output of your convolution function. Detailed instructions have been given in the comments of __layer_func.py__. __The instructors will look at the output to give credits for this task__."
   ]
  },
  {
   "cell_type": "code",
   "execution_count": 4,
   "metadata": {},
   "outputs": [
    {
     "name": "stdout",
     "output_type": "stream",
     "text": [
      "Your feedforward result (size :(2, 3, 3, 5)) is: \n",
      "[[[[-0.46748472 -0.36306972 -0.25865471 -0.15423971 -0.0498247 ]\n",
      "   [-0.35593359 -0.26059401 -0.16525443 -0.06991486  0.02542472]\n",
      "   [-0.15935891 -0.05332115  0.05271662  0.15875438  0.26479215]]\n",
      "\n",
      "  [[ 0.12150907  0.22171692  0.32192477  0.42213263  0.52234048]\n",
      "   [ 0.54066763  0.63030502  0.7199424   0.80957979  0.89921717]\n",
      "   [ 0.4376495   0.5402915   0.64293349  0.74557548  0.84821747]]\n",
      "\n",
      "  [[ 0.21218071  0.32470951  0.43723831  0.5497671   0.6622959 ]\n",
      "   [ 0.51751628  0.62502655  0.73253681  0.84004708  0.94755735]\n",
      "   [ 0.32557548  0.43972704  0.55387859  0.66803015  0.78218171]]]\n",
      "\n",
      "\n",
      " [[[-0.27004908 -0.15211109 -0.03417309  0.0837649   0.20170289]\n",
      "   [-0.21191375 -0.09628969  0.01933437  0.13495843  0.25058249]\n",
      "   [-0.16476811 -0.04520735  0.0743534   0.19391415  0.31347491]]\n",
      "\n",
      "  [[-0.03873836  0.08175398  0.20224632  0.32273866  0.44323099]\n",
      "   [ 0.07209606  0.19216017  0.31222428  0.43228839  0.5523525 ]\n",
      "   [-0.02686517  0.0960613   0.21898778  0.34191425  0.46484073]]\n",
      "\n",
      "  [[-0.19891816 -0.07286637  0.05318542  0.1792372   0.30528899]\n",
      "   [-0.25126565 -0.1234709   0.00432385  0.1321186   0.25991335]\n",
      "   [-0.28836823 -0.16069368 -0.03301913  0.09465541  0.22232996]]]]\n"
     ]
    }
   ],
   "source": [
    "# tf 2.4.0 implementation\n",
    "from utils.layer_funcs import conv2d_forward\n",
    "# Set test parameters.\n",
    "x_shape = (2, 5, 5, 3) #(batch, height, width, channels)\n",
    "w_shape = (3, 3, 3, 5) #(filter_height, filter_width, channels, num_of_filters)\n",
    "channels = w_shape[-1]\n",
    "\n",
    "#x = np.linspace(-0.1, 0.5, num=np.prod(x_shape)).reshape(x_shape)\n",
    "#w = np.linspace(-0.2, 0.3, num=np.prod(w_shape)).reshape(w_shape)\n",
    "#b = np.linspace(-0.1, 0.2, num=channels)\n",
    "\n",
    "#Superficial change\n",
    "x = np.linspace(-0.5, 0.1, num=np.prod(x_shape)).reshape(x_shape)\n",
    "w = np.linspace(-0.3, 0.2, num=np.prod(w_shape)).reshape(w_shape)\n",
    "b = np.linspace(-0.2, 0.3, num=channels)\n",
    "\n",
    "pad = 1\n",
    "stride = 2\n",
    "your_feedforward = conv2d_forward(x, w, b, pad, stride)\n",
    "\n",
    "print(\"Your feedforward result (size :{}) is: \".format(your_feedforward.shape))\n",
    "print(your_feedforward)"
   ]
  },
  {
   "cell_type": "code",
   "execution_count": 10,
   "metadata": {},
   "outputs": [
    {
     "name": "stdout",
     "output_type": "stream",
     "text": [
      "tf.Tensor(\n",
      "[[[[-0.46748472 -0.36306972 -0.25865471 -0.15423971 -0.0498247 ]\n",
      "   [-0.35593359 -0.26059401 -0.16525443 -0.06991486  0.02542472]\n",
      "   [-0.15935891 -0.05332115  0.05271662  0.15875438  0.26479215]]\n",
      "\n",
      "  [[ 0.12150907  0.22171692  0.32192477  0.42213263  0.52234048]\n",
      "   [ 0.54066763  0.63030502  0.7199424   0.80957979  0.89921717]\n",
      "   [ 0.4376495   0.5402915   0.64293349  0.74557548  0.84821747]]\n",
      "\n",
      "  [[ 0.21218071  0.32470951  0.43723831  0.5497671   0.6622959 ]\n",
      "   [ 0.51751628  0.62502655  0.73253681  0.84004708  0.94755735]\n",
      "   [ 0.32557548  0.43972704  0.55387859  0.66803015  0.78218171]]]\n",
      "\n",
      "\n",
      " [[[-0.27004908 -0.15211109 -0.03417309  0.0837649   0.20170289]\n",
      "   [-0.21191375 -0.09628969  0.01933437  0.13495843  0.25058249]\n",
      "   [-0.16476811 -0.04520735  0.0743534   0.19391415  0.31347491]]\n",
      "\n",
      "  [[-0.03873836  0.08175398  0.20224632  0.32273866  0.44323099]\n",
      "   [ 0.07209606  0.19216017  0.31222428  0.43228839  0.5523525 ]\n",
      "   [-0.02686517  0.0960613   0.21898778  0.34191425  0.46484073]]\n",
      "\n",
      "  [[-0.19891816 -0.07286637  0.05318542  0.1792372   0.30528899]\n",
      "   [-0.25126565 -0.1234709   0.00432385  0.1321186   0.25991335]\n",
      "   [-0.28836823 -0.16069368 -0.03301913  0.09465541  0.22232996]]]], shape=(2, 3, 3, 5), dtype=float64)\n",
      "Is your feedforward correct? True\n"
     ]
    }
   ],
   "source": [
    "######################################################\n",
    "# Verification/checking code. Do not modify it       #\n",
    "######################################################\n",
    "\n",
    "X_tf = tf.constant(x, shape=x_shape)\n",
    "w_tf = tf.constant(w, shape=w_shape)\n",
    "b_tf = tf.constant(b, shape=channels)\n",
    "\n",
    "def conv2d_forward_2(x, w, b, stride):\n",
    "    # stride in tf.nn.conv2d is in the format: [1, x_movement, y_movement, 1]\n",
    "    feedforward = tf.nn.conv2d(x, w, [1, stride, stride, 1], padding = \"SAME\")\n",
    "    # add bias to the conv network\n",
    "    feedforward = tf.nn.bias_add(feedforward, b)\n",
    "    return feedforward\n",
    "print(conv2d_forward_2(X_tf, w_tf, b_tf, stride))\n",
    "print(\"Is your feedforward correct? {}\".format(np.allclose(your_feedforward, conv2d_forward_2(X_tf, w_tf, b_tf, stride))))"
   ]
  },
  {
   "cell_type": "markdown",
   "metadata": {},
   "source": [
    "### conv2d backpropagation (optional, bonus +5 points)\n",
    "\n",
    "<p style=\"color:red\">This function is optional, but a bonus 5 points will be given if you solve it correctly.</p>\n",
    "\n",
    "Implement a NumPy naive 2-D convolution backpropagation function. Again, don't worry about the efficiency.\n",
    "\n",
    "<span style=\"color:red\">__TODO:__</span> Complete the function __conv2d_backward__ in __utils/layer_funcs.py__. After that, run the following cell blocks, which will give the output of your backpropagation. Detailed instructions have been given in the comments of __layer_func.py__. __We need to judge your output to give you credits__."
   ]
  },
  {
   "cell_type": "code",
   "execution_count": 1,
   "metadata": {},
   "outputs": [],
   "source": [
    "#from utils.layer_funcs import conv2d_backward\n",
    "# Set test parameters. Please don't change it.\n",
    "#np.random.seed(235)\n",
    "#d_top = np.random.normal(size=your_feedforward.shape)\n",
    "#your_dw, your_db, d_w_shape = conv2d_backward(d_top, x, w, b, pad, stride)\n",
    "\n",
    "#print(\"Your weights' gradients result (size :{}) is: \".format(d_w_shape))\n",
    "#print(your_dw)\n",
    "#print(\"Your biases' gradients result is: \")\n",
    "#print(your_db)"
   ]
  },
  {
   "cell_type": "code",
   "execution_count": 6,
   "metadata": {},
   "outputs": [],
   "source": [
    "####################################################\n",
    "# Verification/checking code. Don't change it.     #\n",
    "####################################################\n",
    "#d_top_tf = tf.constant(d_top, shape=your_feedforward.shape)\n",
    "#def conv2d_backward_2(x, w, b, d, stride):\n",
    "    # stride in tf implementation is in the format: [1, x_movement, y_movement, 1]\n",
    "\n",
    "    #dw_tf =  tf.compat.v1.nn.conv2d_backprop_filter(x, w, d, [1, stride, stride, 1], padding = \"SAME\")\n",
    "    #with tf.GradientTape() as g:\n",
    "        #g.watch(b)\n",
    "        #y = conv2d_forward_2(X_tf, w_tf, b, stride) * d\n",
    "    #dy_dx = g.gradient(y, b)\n",
    "    #return dw_tf, dy_dx\n",
    "\n",
    "#print(\"Are your weights' gradients correct? {}\".format(np.allclose(your_dw, conv2d_backward_2(X_tf, w_shape, b_tf, d_top_tf, stride)[0])))\n",
    "#print(\"Are your biases' gradients correct? {}\".format(np.allclose(your_db, conv2d_backward_2(X_tf, w_shape, b_tf, d_top_tf, stride)[1])))"
   ]
  },
  {
   "cell_type": "markdown",
   "metadata": {},
   "source": [
    "### avg pool feedforward\n",
    "\n",
    "Implement a NumPy naive average pool feedforward function. We ask you to simply find the average in your pooling window. Also, don't need to worry about the efficiency of your function. Use loops as many as you like.\n",
    "\n",
    "<span style=\"color:red\">__TODO:__</span> Finish the function __avg_pool_forward__ in __utils/layer_funcs.py__. After that, run the following cell blocks, which will give the output of your average pool function. Detailed instructions have been given in the comments of __layer_func.py__. __We need to judge your output to give you credits__."
   ]
  },
  {
   "cell_type": "code",
   "execution_count": 7,
   "metadata": {},
   "outputs": [
    {
     "name": "stdout",
     "output_type": "stream",
     "text": [
      "[[-0.5        -0.47986577 -0.45973154 -0.43959732 -0.41946309]\n",
      " [-0.39932886 -0.37919463 -0.3590604  -0.33892617 -0.31879195]\n",
      " [-0.29865772 -0.27852349 -0.25838926 -0.23825503 -0.21812081]\n",
      " [-0.19798658 -0.17785235 -0.15771812 -0.13758389 -0.11744966]\n",
      " [-0.09731544 -0.07718121 -0.05704698 -0.03691275 -0.01677852]]\n",
      "[[-0.43959732 -0.39932886]\n",
      " [-0.23825503 -0.19798658]]\n",
      "Your feedforward result size :(2, 2, 2, 3)\n"
     ]
    }
   ],
   "source": [
    "from utils.layer_funcs import avg_pool_forward\n",
    "\n",
    "# Set test parameters.\n",
    "x_shape = (2, 5, 5, 3) #(batch, height, width, channels)\n",
    "x = np.linspace(-0.5, 0.5, num=np.prod(x_shape)).reshape(x_shape)\n",
    "print(x[0,:,:,0])\n",
    "\n",
    "pool_size = 2\n",
    "stride = 2\n",
    "\n",
    "your_feedforward = avg_pool_forward(x, pool_size, stride)\n",
    "\n",
    "print(your_feedforward[0,:,:,0])\n",
    "print(\"Your feedforward result size :{}\".format(your_feedforward.shape))\n"
   ]
  },
  {
   "cell_type": "code",
   "execution_count": 9,
   "metadata": {},
   "outputs": [
    {
     "name": "stdout",
     "output_type": "stream",
     "text": [
      "tf.Tensor(\n",
      "[[-0.43959732 -0.39932886]\n",
      " [-0.23825503 -0.19798658]], shape=(2, 2), dtype=float64)\n",
      "Is your feedforward correct? True\n"
     ]
    }
   ],
   "source": [
    "####################################################\n",
    "# Verification/checking code. Don't change it.     #\n",
    "####################################################\n",
    "X_tf = tf.constant(x, shape=x_shape)\n",
    "\n",
    "def avgpool_forward_2(x, pool_size, stride):\n",
    "    avgpool_forward = tf.nn.avg_pool(x, [1, pool_size, pool_size, 1], [1, stride, stride, 1], padding='VALID')\n",
    "    return avgpool_forward\n",
    "\n",
    "## Print validation result\n",
    "print(avgpool_forward_2(X_tf, pool_size, stride)[0,:,:,0])\n",
    "print(\"Is your feedforward correct? {}\".format(np.allclose(your_feedforward, avgpool_forward_2(X_tf, pool_size, stride))))"
   ]
  },
  {
   "cell_type": "markdown",
   "metadata": {},
   "source": [
    "### avg pool backpropogation (optional, bonus +5 points)\n",
    "\n",
    "<p style=\"color:red\">This function is optional, but a bonus 5 points will be given if you solve it correctly.</p>\n",
    "\n",
    "Implement a Numpy naive average pooling backpropagation function. Again, don't worry about the efficiency.\n",
    "\n",
    "<span style=\"color:red\">__TODO:__</span> Finish the function __avg_pool_backward__ in __utils/layer_funcs.py__. After that, run the following cell blocks, which will give the output of your backpropagation. Detailed instructions have been given in the comments of __layer_func.py__. __We need to judge your output to give you credits__."
   ]
  },
  {
   "cell_type": "code",
   "execution_count": 11,
   "metadata": {},
   "outputs": [],
   "source": [
    "#from utils.layer_funcs import avg_pool_backward\n",
    "\n",
    "# Set test parameters. Please don't change it.\n",
    "#np.random.seed(235)\n",
    "#dout = np.random.normal(size=your_feedforward.shape)\n",
    "#dx = avg_pool_backward(dout, x, pool_size, stride)\n",
    "\n",
    "#print(\"Your inputs' gradients result (size :{}) is: \".format(dx.shape))\n",
    "#print(dx[0,:,:,0])"
   ]
  },
  {
   "cell_type": "code",
   "execution_count": null,
   "metadata": {},
   "outputs": [],
   "source": [
    "#######################################\n",
    "# Checking code. Don't change it.     #\n",
    "#######################################\n",
    "#d_out_tf = tf.constant(dout, shape=your_feedforward.shape)\n",
    "\n",
    "#def avg_pool_backward_2(x, d):\n",
    "    #with tf.GradientTape() as g:\n",
    "        #g.watch(x)\n",
    "        #y = avgpool_forward_2(X_tf, pool_size, stride) * d\n",
    "    #dy_dx = g.gradient(y, x)\n",
    "    #return dy_dx\n",
    "# ## Print validation result\n",
    "#print('*'*50)\n",
    "#print(avg_pool_backward_2(X_tf, d_out_tf)[0,:,:,0])\n",
    "#print(\"Is your inputs' gradients correct? {}\".format(np.allclose(dx, avg_pool_backward_2(X_tf, d_out_tf))))"
   ]
  },
  {
   "cell_type": "markdown",
   "metadata": {},
   "source": [
    "## Part 2: TensorFlow CNN"
   ]
  },
  {
   "cell_type": "markdown",
   "metadata": {},
   "source": [
    "In this part we will construct the CNN in TensorFlow. We will implement a CNN similar to the LeNet structure.\n",
    "\n",
    "TensorFlow offers many useful resources and functions which help developers build the net in a high-level fashion, such as functions in the `layer` module. By utilizing functions in `tf.keras` that exist for Neural Network structuring and training, we can build our own layers and network modules rather quickly.\n",
    "\n",
    "Also, we will introduce a visualization tool called Tensorboard. You can use Tensorboard to visualize your TensorFlow graph, plot quantitative metrics about the execution of your graph, and show additional data that passes through it.\n",
    "\n",
    "Resources and References: <br>\n",
    "* [TensorBoard: Visualizing Learning](https://www.tensorflow.org/get_started/summaries_and_tensorboard)<br>\n",
    "* [Convolutional Neural Networks (LeNet) - DeepLearning 0.1 documentation](http://deeplearning.net/tutorial/lenet.html)<br>\n",
    "* [LeNet-5, convolutional neural networks](http://yann.lecun.com/exdb/lenet/)"
   ]
  },
  {
   "cell_type": "markdown",
   "metadata": {},
   "source": [
    "### Quick guide for Tensorboard\n",
    "\n",
    "Tensorboard is a powerful tool provided by TensorFlow. It allows developers to check their graph and trend of parameters. This guide will give you a basic understanding on how to initiate the Tensorboard Jupyter Notebook extension and how to understand the results of the training of your model.\n",
    "\n",
    "For more information, check the official guide on Tensorflow web site [here](https://www.tensorflow.org/get_started/summaries_and_tensorboard).\n",
    "\n",
    "### How to start Tensorboard\n",
    "\n",
    "The cell at the bottom of the Jupyter Notebook should be executed once the model has been trained. In the TensorBoard notebook extension, you will be able to see the training/validation accuracies and loss graphs associated with each model fit. The most recent results can be filtered in the bottom-left hand corner by selecting the most recent training and validation results at the bottom of the list.\n",
    "\n",
    "### Check the graph and summary in Tensorboard\n",
    "\n",
    "After executing the cell once, you should able to see the metrics displayed in the tensorboard. \n",
    "\n",
    "![Tensorboard_2](./utils/notebook_images/Task3_2_2_metrics.png)\n",
    "\n",
    "\n",
    "Also, you may able zoom in or zoom out or click into the layer block to check all the variables and tensor operations in the graph, check the trend of the variables and the distribution of those in Scalar, Distributions and Histograms. You may explore the tensorboard by yourself and take advantage to it for debuging the nerwork structure."
   ]
  },
  {
   "cell_type": "markdown",
   "metadata": {},
   "source": [
    "<span style=\"color:red\">__TODO:__</span> You will try to achieve your own CNN model below that has similar structure to LeNet, show the model graph in tensorboard, and get a model with __90% or higher accuracy__ using the data we provide you. You will use the Keras API to build your model.\n",
    "\n",
    "There is example code for a simplified LeNet model in __utils/neuralnets/cnn/model_LeNet.py__. This sample is used as a guide line for how to build a Neural Net model in Tensorflow using Keras functions. Feel free to study the code and use it to build your own CNN below."
   ]
  },
  {
   "cell_type": "markdown",
   "metadata": {},
   "source": [
    "<span style=\"color:red\">__TODO:__</span>\n",
    "1. Edit the TODO cell below for the **create_model()** function. Create your own CNN that is based on the LeNet structure to achieve at least **90% test accuracy.**\n",
    "2. Print out the training process and the best validation accuracy, save the model in __model/__ folder.\n",
    "3. Attach a screenshot of your tensorboard graph in the markdown cell below. Double click the cell and replace the example image with your own image. Here is a [Markdown Cheetsheet](https://github.com/adam-p/markdown-here/wiki/Markdown-Cheatsheet#images) that may also help.\n",
    "\n",
    "__Hint__: \n",
    "1. You may add/modify layers to your CNN to achieve the 90% test accuracy.\n"
   ]
  },
  {
   "cell_type": "markdown",
   "metadata": {},
   "source": [
    "# Sequential implementation."
   ]
  },
  {
   "cell_type": "code",
   "execution_count": 12,
   "metadata": {},
   "outputs": [],
   "source": [
    "import datetime\n",
    "import tensorflow as tf\n",
    "from tensorflow.keras.models import Sequential\n",
    "from tensorflow.keras.layers import Dense, Flatten, Conv2D, AveragePooling2D, MaxPooling2D\n",
    "from tensorflow.keras import Model\n",
    "from tensorflow.keras.utils import to_categorical\n",
    "from tensorflow.keras.losses import categorical_crossentropy\n",
    "import datetime"
   ]
  },
  {
   "cell_type": "code",
   "execution_count": 13,
   "metadata": {},
   "outputs": [],
   "source": [
    "#Load data from the Fashion MNIST dataset\n",
    "fashion_mnist = tf.keras.datasets.fashion_mnist\n",
    "\n",
    "(x_train, y_train), (x_test, y_test) = fashion_mnist.load_data()\n",
    "x_train, x_test = x_train / 255.0, x_test / 255.0\n",
    "\n",
    "# Add a channels dimension\n",
    "x_train = x_train[..., tf.newaxis].astype(\"float32\")\n",
    "x_test = x_test[..., tf.newaxis].astype(\"float32\")"
   ]
  },
  {
   "cell_type": "markdown",
   "metadata": {},
   "source": [
    "<span style=\"color:red\">__TODO:__</span>\n",
    "Modify the __create_model()__ function to return a model that can achieve **90% or higher validation accuracy**. For more information on the Keras API, please see https://www.tensorflow.org/api_docs/python/tf/keras."
   ]
  },
  {
   "cell_type": "code",
   "execution_count": 26,
   "metadata": {},
   "outputs": [],
   "source": [
    "from tensorflow.keras.layers import Conv2D, AveragePooling2D, Flatten, Dense, Activation, Softmax\n",
    "\n",
    "def create_model():\n",
    "    model = tf.keras.models.Sequential()\n",
    "    \n",
    "    model.add(Conv2D(filters=32, kernel_size=(5,5), padding='same', input_shape=(28,28,1), activation='relu'))\n",
    "    \n",
    "    model.add(AveragePooling2D(pool_size=(2,2), strides=(2,2)))\n",
    "    \n",
    "    model.add(Conv2D(filters=48, kernel_size=(5,5), padding='valid', activation='relu'))\n",
    "    \n",
    "    model.add(AveragePooling2D(pool_size=(2,2), strides=(2,2)))\n",
    "\n",
    "    \n",
    "    model.add(Conv2D(filters=100, kernel_size=(3,3), padding='valid', activation='relu'))\n",
    "    \n",
    "    model.add(Conv2D(filters=50, kernel_size=(3,3), padding='valid', activation='relu'))\n",
    "    \n",
    "    model.add(Flatten())\n",
    "    \n",
    "    NumClasses = 10\n",
    "    model.add(Dense(NumClasses, activation='relu'))\n",
    "    \n",
    "    model.add(Softmax())\n",
    "    \n",
    "    \n",
    "    return model"
   ]
  },
  {
   "cell_type": "code",
   "execution_count": 27,
   "metadata": {},
   "outputs": [
    {
     "name": "stdout",
     "output_type": "stream",
     "text": [
      "Epoch 1/10\n",
      "600/600 [==============================] - 3s 5ms/step - loss: 0.9221 - accuracy: 0.6674 - val_loss: 0.4425 - val_accuracy: 0.8386\n",
      "Epoch 2/10\n",
      "600/600 [==============================] - 2s 4ms/step - loss: 0.3991 - accuracy: 0.8530 - val_loss: 0.3830 - val_accuracy: 0.8602\n",
      "Epoch 3/10\n",
      "600/600 [==============================] - 2s 4ms/step - loss: 0.3390 - accuracy: 0.8757 - val_loss: 0.3220 - val_accuracy: 0.8858\n",
      "Epoch 4/10\n",
      "600/600 [==============================] - 2s 4ms/step - loss: 0.2977 - accuracy: 0.8929 - val_loss: 0.3337 - val_accuracy: 0.8824\n",
      "Epoch 5/10\n",
      "600/600 [==============================] - 2s 4ms/step - loss: 0.2735 - accuracy: 0.9000 - val_loss: 0.2977 - val_accuracy: 0.8934\n",
      "Epoch 6/10\n",
      "600/600 [==============================] - 2s 4ms/step - loss: 0.2556 - accuracy: 0.9065 - val_loss: 0.2894 - val_accuracy: 0.8969\n",
      "Epoch 7/10\n",
      "600/600 [==============================] - 2s 4ms/step - loss: 0.2409 - accuracy: 0.9116 - val_loss: 0.2717 - val_accuracy: 0.9039\n",
      "Epoch 8/10\n",
      "600/600 [==============================] - 2s 4ms/step - loss: 0.2252 - accuracy: 0.9167 - val_loss: 0.2744 - val_accuracy: 0.8991\n",
      "Epoch 9/10\n",
      "600/600 [==============================] - 2s 4ms/step - loss: 0.2098 - accuracy: 0.9230 - val_loss: 0.2724 - val_accuracy: 0.9025\n",
      "Epoch 10/10\n",
      "600/600 [==============================] - 2s 4ms/step - loss: 0.1989 - accuracy: 0.9273 - val_loss: 0.2556 - val_accuracy: 0.9121\n"
     ]
    },
    {
     "data": {
      "text/plain": [
       "<tensorflow.python.keras.callbacks.History at 0x7f3debe9a7b8>"
      ]
     },
     "execution_count": 27,
     "metadata": {},
     "output_type": "execute_result"
    }
   ],
   "source": [
    "#Create the model, compile the model, and fit it\n",
    "model_test = create_model()\n",
    "model_test.compile(optimizer='adam',\n",
    "              loss='sparse_categorical_crossentropy',\n",
    "              metrics=['accuracy'])\n",
    "log_dir = \"logs/fit/\" + datetime.datetime.now().strftime(\"%Y%m%d-%H%M%S\")\n",
    "tensorboard_callback = tf.keras.callbacks.TensorBoard(log_dir=log_dir, histogram_freq=1)\n",
    "model_test.fit(x=x_train, \n",
    "          y=y_train,\n",
    "          batch_size=100,\n",
    "          epochs=10, \n",
    "          validation_data=(x_test, y_test), \n",
    "          callbacks=[tensorboard_callback])"
   ]
  },
  {
   "cell_type": "markdown",
   "metadata": {},
   "source": [
    "<span style=\"color:red\">__TODO:__</span>\n",
    "Save the best performing model to the **model/** directory using the code below."
   ]
  },
  {
   "cell_type": "code",
   "execution_count": 28,
   "metadata": {},
   "outputs": [
    {
     "name": "stdout",
     "output_type": "stream",
     "text": [
      "INFO:tensorflow:Assets written to: ./model/task3_model/assets\n"
     ]
    }
   ],
   "source": [
    "model_test.save(filepath = \"./model/task3_model\")"
   ]
  },
  {
   "cell_type": "markdown",
   "metadata": {},
   "source": [
    "#### For future reference, a model can be loaded using load_model() on the file path containing your saved model:"
   ]
  },
  {
   "cell_type": "code",
   "execution_count": 29,
   "metadata": {},
   "outputs": [
    {
     "name": "stdout",
     "output_type": "stream",
     "text": [
      "Model: \"sequential_8\"\n",
      "_________________________________________________________________\n",
      "Layer (type)                 Output Shape              Param #   \n",
      "=================================================================\n",
      "conv2d_32 (Conv2D)           (None, 28, 28, 32)        832       \n",
      "_________________________________________________________________\n",
      "average_pooling2d_16 (Averag (None, 14, 14, 32)        0         \n",
      "_________________________________________________________________\n",
      "conv2d_33 (Conv2D)           (None, 10, 10, 48)        38448     \n",
      "_________________________________________________________________\n",
      "average_pooling2d_17 (Averag (None, 5, 5, 48)          0         \n",
      "_________________________________________________________________\n",
      "conv2d_34 (Conv2D)           (None, 3, 3, 100)         43300     \n",
      "_________________________________________________________________\n",
      "conv2d_35 (Conv2D)           (None, 1, 1, 50)          45050     \n",
      "_________________________________________________________________\n",
      "flatten_8 (Flatten)          (None, 50)                0         \n",
      "_________________________________________________________________\n",
      "dense_8 (Dense)              (None, 10)                510       \n",
      "_________________________________________________________________\n",
      "softmax_8 (Softmax)          (None, 10)                0         \n",
      "=================================================================\n",
      "Total params: 128,140\n",
      "Trainable params: 128,140\n",
      "Non-trainable params: 0\n",
      "_________________________________________________________________\n",
      "None\n"
     ]
    }
   ],
   "source": [
    "loaded_model = tf.keras.models.load_model(\"./model/task3_model\")\n",
    "print(loaded_model.summary())"
   ]
  },
  {
   "cell_type": "markdown",
   "metadata": {},
   "source": [
    "<span style=\"color:red\">__TODO:__</span>\n",
    "Generate the TensorBoard notebook extension and attach a screenshot of the train/test accuracy and loss graphs below the Solution cell."
   ]
  },
  {
   "cell_type": "code",
   "execution_count": 30,
   "metadata": {},
   "outputs": [
    {
     "data": {
      "text/html": [
       "\n",
       "      <iframe id=\"tensorboard-frame-a8b3186843408d8b\" width=\"100%\" height=\"800\" frameborder=\"0\">\n",
       "      </iframe>\n",
       "      <script>\n",
       "        (function() {\n",
       "          const frame = document.getElementById(\"tensorboard-frame-a8b3186843408d8b\");\n",
       "          const url = new URL(\"/\", window.location);\n",
       "          const port = 6006;\n",
       "          if (port) {\n",
       "            url.port = port;\n",
       "          }\n",
       "          frame.src = url;\n",
       "        })();\n",
       "      </script>\n",
       "    "
      ],
      "text/plain": [
       "<IPython.core.display.HTML object>"
      ]
     },
     "metadata": {},
     "output_type": "display_data"
    }
   ],
   "source": [
    "# Load the TensorBoard notebook extension\n",
    "%load_ext tensorboard\n",
    "%tensorboard --logdir logs/fit --bind_all"
   ]
  },
  {
   "cell_type": "markdown",
   "metadata": {},
   "source": [
    "## Solution"
   ]
  },
  {
   "cell_type": "code",
   "execution_count": null,
   "metadata": {},
   "outputs": [],
   "source": []
  }
 ],
 "metadata": {
  "kernelspec": {
   "display_name": "Python 3",
   "language": "python",
   "name": "python3"
  },
  "language_info": {
   "codemirror_mode": {
    "name": "ipython",
    "version": 3
   },
   "file_extension": ".py",
   "mimetype": "text/x-python",
   "name": "python",
   "nbconvert_exporter": "python",
   "pygments_lexer": "ipython3",
   "version": "3.6.9"
  }
 },
 "nbformat": 4,
 "nbformat_minor": 4
}
