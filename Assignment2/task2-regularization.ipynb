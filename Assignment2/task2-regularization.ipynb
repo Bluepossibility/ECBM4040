{
 "cells": [
  {
   "cell_type": "markdown",
   "metadata": {},
   "source": [
    "## Columbia University\n",
    "### ECBM E4040 Neural Networks and Deep Learning. Fall 2021."
   ]
  },
  {
   "cell_type": "markdown",
   "metadata": {},
   "source": [
    "# Assignment 2 - Task 2: Regularizations\n",
    "\n",
    "In this task, you are going to experiment with two popular regularization methods. \n",
    "\n",
    "**Batch normalization:** Batch normalization makes it possible to train a deep network. When a network becomes deeper, the distribution of hidden neurons' values will also shift greatly, and that is one reason that makes it difficult to train a deep neural network. Machine learning taught us that normalization is a good preprocessing method to deal with such a problem. Therefore, batch normalization deploys a similar idea in the neural network by re-normalizing the hidden values of each layer before transfering values to the next layer.\n",
    "\n",
    "**Dropout:** In the last assignment, you trained a shallow network and everything looked fine. However, when the network becomes larger and deeper, it will also become harder to train. The first potential problem is over-fitting, that is, the network overreacts to noise or random errors of the training data while failing to detect the underlying distribution pattern. It is more likely to occur when the model becomes complex and contains more trainable parameters. Dropout is a well-known method that can eliminate such effects. The core idea behind it is quite simple: rather than updating all trainable parameters each time, it randomly selects a subset of parameters to update and keeps other parameters unaltered.\n",
    "\n",
    "* References\n",
    "    * https://www.cs.toronto.edu/~hinton/absps/JMLRdropout.pdf\n",
    "    * https://arxiv.org/pdf/1502.03167.pdf\n",
    "    * https://www.tensorflow.org/api_docs/python/tf/keras/layers/BatchNormalization\n",
    "    * https://www.tensorflow.org/api_docs/python/tf/nn/batch_normalization"
   ]
  },
  {
   "cell_type": "code",
   "execution_count": 1,
   "metadata": {},
   "outputs": [],
   "source": [
    "# Import modules\n",
    "from __future__ import print_function\n",
    "import tensorflow as tf\n",
    "import numpy as np\n",
    "import matplotlib.pyplot as plt\n",
    "from tensorflow.keras.datasets import fashion_mnist\n",
    "\n",
    "%matplotlib inline\n",
    "%load_ext autoreload\n",
    "%autoreload 2"
   ]
  },
  {
   "cell_type": "markdown",
   "metadata": {},
   "source": [
    "## Load Data"
   ]
  },
  {
   "cell_type": "code",
   "execution_count": 2,
   "metadata": {},
   "outputs": [
    {
     "name": "stdout",
     "output_type": "stream",
     "text": [
      "Training data shape:  (60000, 784)\n",
      "Training labels shape:  (60000,)\n",
      "Validation data shape:  (10000, 784)\n",
      "Validation labels shape:  (10000,)\n"
     ]
    }
   ],
   "source": [
    "# Load the raw Fashion-MNIST data.\n",
    "train, val = fashion_mnist.load_data()\n",
    "\n",
    "X_train_raw, y_train = train\n",
    "X_val_raw, y_val = val\n",
    "\n",
    "X_train = X_train_raw.reshape((X_train_raw.shape[0], X_train_raw.shape[1]**2))\n",
    "X_val = X_val_raw.reshape((X_val_raw.shape[0], X_val_raw.shape[1]**2))\n",
    "\n",
    "#Index from the 10000th image of the dataset\n",
    "# X_val = X_train[10000:10500,:]\n",
    "# y_val = y_train[10000:10500]\n",
    "# X_train = X_train[10500:12500,:]\n",
    "# y_train = y_train[10500:12500]\n",
    "\n",
    "mean_image = np.mean(X_train, axis=0).astype(np.float32)\n",
    "X_train = X_train.astype(np.float32) - mean_image\n",
    "X_val = X_val.astype(np.float32) - mean_image\n",
    "\n",
    "# We've vectorized the data for you. That is, we flatten the 32×32×3 images into 1×3072 Numpy arrays.\n",
    "print('Training data shape: ', X_train.shape)\n",
    "print('Training labels shape: ', y_train.shape)\n",
    "print('Validation data shape: ', X_val.shape)\n",
    "print('Validation labels shape: ', y_val.shape)"
   ]
  },
  {
   "cell_type": "markdown",
   "metadata": {},
   "source": [
    "## Part 1: Batch Normalization"
   ]
  },
  {
   "cell_type": "markdown",
   "metadata": {},
   "source": [
    "### Implement batch normalization foward function\n",
    "\n",
    "<span style=\"color:red\"><strong>TODO:</strong></span> Edit functions **bn_forward** in **./utils/reg_funcs.py**. <br> If the code is running correctly, **mean of a2_bn for train will be very close to 0 and variance of a2_bn will be close to 1.**"
   ]
  },
  {
   "cell_type": "code",
   "execution_count": 3,
   "metadata": {},
   "outputs": [
    {
     "name": "stdout",
     "output_type": "stream",
     "text": [
      "mean of a2:  [-3.71855056  3.21810258 -2.44388986]\n",
      "var of a2:  [45.32564755 70.17112882 32.35120115]\n",
      "(train) mean of a2_bn:  [-1.93178806e-16 -1.84297022e-16 -1.12132525e-16]\n",
      "(train) var of a2_bn:  [0.99999978 0.99999986 0.99999969]\n"
     ]
    }
   ],
   "source": [
    "####################################################\n",
    "# Checking/verification code. Don't change it.     #\n",
    "####################################################\n",
    "\n",
    "from utils.reg_funcs import bn_forward\n",
    "from utils.reg_funcs import bn_backward\n",
    "\n",
    "np.random.seed(1338)\n",
    "N, D, H1, H2 = 300, 20, 8, 3\n",
    "x_in = np.random.randn(N, D)\n",
    "w1 = np.random.randn(D,H1)\n",
    "w2 = np.random.randn(H1,H2)\n",
    "a2 = np.maximum(x_in.dot(w1),0).dot(w2)\n",
    "\n",
    "# Before batch normalization\n",
    "print(\"mean of a2: \", np.mean(a2, axis=0))\n",
    "print(\"var of a2: \", np.var(a2, axis=0))\n",
    "\n",
    "# Test \"train mode\" of forward function\n",
    "# After batch normalization, the mean should be close to zero and var should be close to one. \n",
    "bn_config = {\"epsilon\":1e-5, \"decay\":0.9}\n",
    "gamma = np.ones(H2)\n",
    "beta = np.zeros(H2)\n",
    "a2_bn, _ = bn_forward(a2, gamma, beta, bn_config, \"train\")\n",
    "print(\"(train) mean of a2_bn: \", np.mean(a2_bn, axis=0))\n",
    "print(\"(train) var of a2_bn: \", np.var(a2_bn, axis=0))"
   ]
  },
  {
   "cell_type": "markdown",
   "metadata": {},
   "source": [
    "<span style=\"color:red\"><strong>TODO:</strong></span> Test \"moving average\" and \"test mode\" of the bn_forward function. <br> We expect that the test mean & variance of a2 to be fairly close to the real values and the test mean & variance of a2_bn to be close to 0 and 1 respectively."
   ]
  },
  {
   "cell_type": "code",
   "execution_count": 4,
   "metadata": {},
   "outputs": [
    {
     "name": "stdout",
     "output_type": "stream",
     "text": [
      "real mean of data:  [-4.66597413  3.54558219 -2.76245923]\n",
      "real var of data:  [52.21537611 68.48830775 34.90757554]\n",
      "moving mean of data:  [-4.63615489  3.52523532 -2.76508416]\n",
      "moving var of data:  [51.29127262 69.07311671 34.80902842]\n",
      "********************************************************************************\n",
      "(test) mean of a2:  [-4.91240989  4.48112074 -3.35659034]\n",
      "(test) var of a2:  [58.07744964 66.79717707 36.85179509]\n",
      "(test) mean of a2_bn:  [-0.03857344  0.11501415 -0.10025667]\n",
      "(test) var of a2_bn:  [1.13230644 0.96705014 1.05868466]\n"
     ]
    }
   ],
   "source": [
    "#######################################\n",
    "# Checking code. Don't change it.     #\n",
    "#######################################\n",
    "\n",
    "# Test \"moving average\" and \"test mode\" of forward function\n",
    "# Then you are going to run the forward function under \"training mode\" for several times, \n",
    "# and the moving mean and moving var will be close to the real mean and var of the input data.\n",
    "# Next, run the forward function under \"test\" mode and you will see that the mean and var of its \n",
    "# output will be also close to gamma, beta that you have set before.\n",
    "\n",
    "bn_config = {\"epsilon\":1e-5, \"decay\":0.9}\n",
    "gamma = np.ones(H2)\n",
    "beta = np.zeros(H2)\n",
    "\n",
    "# collect_data: for calculating real mean and var of a2 later.\n",
    "collect_data = a2\n",
    "for _ in range(100):\n",
    "    x_in = np.random.randn(N, D)\n",
    "    a2 = np.maximum(x_in.dot(w1),0).dot(w2)\n",
    "    collect_data = np.concatenate((collect_data, a2), axis=0)\n",
    "    bn_forward(a2, gamma, beta, bn_config, \"train\")\n",
    "\n",
    "# compare moving_mean and moving_var with real mean and var.\n",
    "# You should see that they are close to each other.\n",
    "print(\"real mean of data: \", np.mean(collect_data, axis=0))\n",
    "print(\"real var of data: \", np.var(collect_data, axis=0))\n",
    "print(\"moving mean of data: \", bn_config[\"moving_mean\"])\n",
    "print(\"moving var of data: \", bn_config[\"moving_var\"])\n",
    "\n",
    "# \"test mode\" of forward function\n",
    "# After bn_forward, the mean and var of output should be kind of close to gamma and beta.\n",
    "x_in = np.random.randn(N, D)\n",
    "a2 = np.maximum(x_in.dot(w1),0).dot(w2)\n",
    "print(\"*\"*80)\n",
    "print(\"(test) mean of a2: \", np.mean(a2, axis=0))\n",
    "print(\"(test) var of a2: \", np.var(a2, axis=0))\n",
    "a2_bn, _ = bn_forward(a2, gamma, beta, bn_config, \"test\")\n",
    "print(\"(test) mean of a2_bn: \", np.mean(a2_bn, axis=0))\n",
    "print(\"(test) var of a2_bn: \", np.var(a2_bn, axis=0))"
   ]
  },
  {
   "cell_type": "markdown",
   "metadata": {},
   "source": [
    "<span style=\"color:red\"><strong>TODO:</strong></span> Use TensorFlow 2 functions to verify the correctness of the backward function. You should use functions from TensorFlow 2 to get the gradients. \n",
    "<br>**Hint: use tf.GradientTape()**"
   ]
  },
  {
   "cell_type": "code",
   "execution_count": 10,
   "metadata": {},
   "outputs": [
    {
     "name": "stdout",
     "output_type": "stream",
     "text": [
      "tf.Tensor([-23.51050889   5.92815926  10.75825167], shape=(3,), dtype=float64)\n",
      "[-23.51050889   5.92815926  10.75825167]\n",
      "Is a2_bn correct? True\n",
      "Is da2 correct? True\n",
      "Is dgamma correct? True\n",
      "Is dbeta correct? True\n"
     ]
    }
   ],
   "source": [
    "# After verifying the forward function and save the bn_config.\n",
    "x_in = np.random.randn(N, D)\n",
    "a2 = np.maximum(x_in.dot(w1),0).dot(w2)\n",
    "da2_bn = np.ones_like(a2)\n",
    "# Test backward function with tensorflow\n",
    "# You will use bn_config = {\"eps\":1e-5, \"decay\":0.9, \"moving_mean\":moving_mean, \"moving_var\":moving_var}\n",
    "gamma = np.ones(H2)\n",
    "beta = np.zeros(H2)\n",
    "a2_bn, cache = bn_forward(a2, gamma, beta, bn_config, \"test\")\n",
    "da2, dgamma, dbeta = bn_backward(da2_bn, cache)\n",
    "\n",
    "###################################################\n",
    "# TODO: verify the backward code. You should use  #\n",
    "# the parameters in bn_config and other variables #\n",
    "# above.                                          #\n",
    "###################################################\n",
    "eps = bn_config[\"epsilon\"];mean_tf = bn_config[\"moving_mean\"];var_tf = bn_config[\"moving_var\"]\n",
    "a2_tf = tf.Variable(a2)\n",
    "gamma_tf = tf.Variable(gamma)\n",
    "beta_tf = tf.Variable(beta)\n",
    "\n",
    "with tf.GradientTape(persistent=True) as g:\n",
    "    g.watch(gamma_tf)\n",
    "    a2_bn_tf = tf.nn.batch_normalization(a2_tf, mean_tf, var_tf, beta_tf, gamma_tf, eps)\n",
    "dgamma_tf = g.gradient(a2_bn_tf, gamma_tf)\n",
    "print(dgamma_tf)\n",
    "print(dgamma)\n",
    "\n",
    "with tf.GradientTape(persistent=True) as g:\n",
    "    g.watch(a2_tf)\n",
    "    a2_bn_tf = tf.nn.batch_normalization(a2_tf, mean_tf, var_tf, beta_tf, gamma_tf, eps)\n",
    "da2_tf = g.gradient(a2_bn_tf, a2_tf)\n",
    "\n",
    "with tf.GradientTape(persistent=True) as g:\n",
    "    g.watch(gamma_tf)\n",
    "    dgamma_tf = tf.nn.batch_normalization(a2_tf, mean_tf, var_tf, beta_tf, gamma_tf, eps)\n",
    "dgamma_tf = g.gradient(a2_bn_tf, gamma_tf)\n",
    "\n",
    "with tf.GradientTape(persistent=True) as g:\n",
    "    g.watch(beta_tf)\n",
    "    dbeta_tf = tf.nn.batch_normalization(a2_tf, mean_tf, var_tf, beta_tf, gamma_tf, eps)\n",
    "dbeta_tf = g.gradient(a2_bn_tf, beta_tf)\n",
    "#dbeta_tf = dbeta\n",
    "#dgamma_tf=dgamma\n",
    "\n",
    "\n",
    "# def pretrain_step(model, x, y):\n",
    "#     \"\"\"\n",
    "#     Single step of generator pre-training.\n",
    "#     Args:\n",
    "#         model: A model object with a tf keras compiled generator.\n",
    "#         x: The low resolution image tensor.\n",
    "#         y: The high resolution image tensor.\n",
    "#     \"\"\"\n",
    "#     with tf.GradientTape() as tape:\n",
    "#         fake_hr = model.generator(x)\n",
    "#         loss_mse = tf.keras.losses.MeanSquaredError()(y, fake_hr)\n",
    "\n",
    "#     grads = tape.gradient(loss_mse, model.generator.trainable_variables)\n",
    "#     model.gen_optimizer.apply_gradients(zip(grads, model.generator.trainable_variables))\n",
    "\n",
    "#     return loss_mse \n",
    "\n",
    "# a2_bn_tf = tf.nn.batch_normalization(a2_tf, mean_tf, var_tf, beta_tf, gamma_tf, eps)\n",
    "# # derive gradients\n",
    "# da2_tf = tf.gradients(a2_bn_tf, a2_tf)\n",
    "# dgamma_tf = tf.gradients(a2_bn_tf, gamma_tf)\n",
    "# dbeta_tf = tf.gradients(a2_bn_tf, beta_tf)\n",
    "\n",
    "# init = tf.global_variables_initializer()\n",
    "# tf_output = (a2_bn_tf, da2_tf[0], dgamma_tf[0], dbeta_tf[0])\n",
    "# with tf.Session() as sess:\n",
    "#     sess.run(init)\n",
    "#     a2_bn_check, da2_check, dgamma_check, dbeta_check = sess.run(tf_output)\n",
    "\n",
    "# derive gradients\n",
    "# da2_tf = tf.gradient(a2_bn_tf, a2_tf)\n",
    "\n",
    "# dgamma_tf = tf.gradient(a2_bn_tf, gamma_tf)\n",
    "\n",
    "# dbeta_tf = tf.gradient(a2_bn_tf, beta_tf)\n",
    "\n",
    "a2_bn_check, da2_check, dgamma_check, dbeta_check = a2_bn_tf, da2_tf, dgamma_tf, dbeta_tf\n",
    "\n",
    "###################################################\n",
    "# ENDTODO #\n",
    "###################################################\n",
    "    \n",
    "# Make comparison\n",
    "print(\"Is a2_bn correct? {}\".format(np.allclose(a2_bn, a2_bn_check)))\n",
    "print(\"Is da2 correct? {}\".format(np.allclose(da2, da2_check)))\n",
    "print(\"Is dgamma correct? {}\".format(np.allclose(dgamma, dgamma_check)))\n",
    "print(\"Is dbeta correct? {}\".format(np.allclose(dbeta, dbeta_check)))"
   ]
  },
  {
   "cell_type": "code",
   "execution_count": 13,
   "metadata": {},
   "outputs": [
    {
     "name": "stdout",
     "output_type": "stream",
     "text": [
      "[ 194.88712266 -126.48795431  142.97374992]\n"
     ]
    }
   ],
   "source": [
    "print(dgamma_tf)"
   ]
  },
  {
   "cell_type": "markdown",
   "metadata": {},
   "source": [
    "### Batch Normalization Experiments with MLP\n",
    "\n",
    "<span style=\"color:red\"><strong>TODO:</strong></span>\n",
    "\n",
    "1. Add batch normalization into MLP. Please understand **loss**, **predict** functions of the class **MLP** in **./utils/neuralnets/mlp.py**\n",
    "\n",
    "2. First create a shallow MLP like two-layer network like [100,10]. Train it without and with batch normalization. Plot the loss, training accuracy, and validation accuracy curves.\n",
    "\n",
    "3. Then, create a 5-layer MLP network like [100,50,50,50,10] and train the network with and without batch normalization. Plot the loss, training accuracy, and validation accuracy curves.\n",
    "\n",
    "4. Make a comparison and describe what you have found in this experiment."
   ]
  },
  {
   "cell_type": "markdown",
   "metadata": {},
   "source": [
    "**Experiment on shallow MLP** "
   ]
  },
  {
   "cell_type": "code",
   "execution_count": 5,
   "metadata": {},
   "outputs": [],
   "source": [
    "from utils.neuralnets.mlp import MLP \n",
    "from utils.optimizers import AdamOptim"
   ]
  },
  {
   "cell_type": "code",
   "execution_count": 12,
   "metadata": {},
   "outputs": [
    {
     "name": "stdout",
     "output_type": "stream",
     "text": [
      "number of batches for training: 600\n",
      "epoch 1: valid acc = 0.8443, new learning rate = 0.00095\n",
      "epoch 2: valid acc = 0.8649, new learning rate = 0.0009025\n",
      "epoch 3: valid acc = 0.8689, new learning rate = 0.000857375\n",
      "epoch 4: valid acc = 0.8684, new learning rate = 0.0008145062499999999\n",
      "epoch 5: valid acc = 0.8697, new learning rate = 0.0007737809374999998\n",
      "epoch 6: valid acc = 0.8768, new learning rate = 0.0007350918906249997\n",
      "epoch 7: valid acc = 0.878, new learning rate = 0.0006983372960937497\n",
      "epoch 8: valid acc = 0.8802, new learning rate = 0.0006634204312890621\n",
      "epoch 9: valid acc = 0.8767, new learning rate = 0.000630249409724609\n",
      "epoch 10: valid acc = 0.8769, new learning rate = 0.0005987369392383785\n",
      "epoch 11: valid acc = 0.8786, new learning rate = 0.0005688000922764595\n",
      "epoch 12: valid acc = 0.8779, new learning rate = 0.0005403600876626365\n",
      "epoch 13: valid acc = 0.8798, new learning rate = 0.0005133420832795047\n",
      "epoch 14: valid acc = 0.8809, new learning rate = 0.00048767497911552944\n",
      "epoch 15: valid acc = 0.8817, new learning rate = 0.00046329123015975297\n",
      "epoch 16: valid acc = 0.881, new learning rate = 0.0004401266686517653\n",
      "epoch 17: valid acc = 0.8815, new learning rate = 0.00041812033521917703\n",
      "epoch 18: valid acc = 0.8813, new learning rate = 0.00039721431845821814\n",
      "epoch 19: valid acc = 0.8805, new learning rate = 0.0003773536025353072\n",
      "epoch 20: valid acc = 0.88, new learning rate = 0.0003584859224085418\n",
      "epoch 21: valid acc = 0.881, new learning rate = 0.0003405616262881147\n",
      "epoch 22: valid acc = 0.8811, new learning rate = 0.00032353354497370894\n",
      "epoch 23: valid acc = 0.8811, new learning rate = 0.00030735686772502346\n",
      "epoch 24: valid acc = 0.8814, new learning rate = 0.00029198902433877225\n",
      "epoch 25: valid acc = 0.8815, new learning rate = 0.00027738957312183364\n",
      "epoch 26: valid acc = 0.8814, new learning rate = 0.0002635200944657419\n",
      "epoch 27: valid acc = 0.8811, new learning rate = 0.0002503440897424548\n",
      "epoch 28: valid acc = 0.8808, new learning rate = 0.00023782688525533205\n",
      "epoch 29: valid acc = 0.8803, new learning rate = 0.00022593554099256544\n",
      "epoch 30: valid acc = 0.8817, new learning rate = 0.00021463876394293716\n",
      "epoch 31: valid acc = 0.8805, new learning rate = 0.0002039068257457903\n",
      "epoch 32: valid acc = 0.881, new learning rate = 0.00019371148445850077\n",
      "epoch 33: valid acc = 0.8823, new learning rate = 0.00018402591023557573\n",
      "epoch 34: valid acc = 0.8826, new learning rate = 0.00017482461472379692\n",
      "epoch 35: valid acc = 0.8825, new learning rate = 0.00016608338398760707\n",
      "epoch 36: valid acc = 0.8826, new learning rate = 0.0001577792147882267\n",
      "epoch 37: valid acc = 0.8824, new learning rate = 0.00014989025404881537\n",
      "epoch 38: valid acc = 0.8833, new learning rate = 0.00014239574134637458\n",
      "epoch 39: valid acc = 0.8827, new learning rate = 0.00013527595427905584\n",
      "epoch 40: valid acc = 0.8834, new learning rate = 0.00012851215656510304\n",
      "epoch 41: valid acc = 0.8833, new learning rate = 0.00012208654873684788\n",
      "epoch 42: valid acc = 0.8832, new learning rate = 0.00011598222130000548\n",
      "epoch 43: valid acc = 0.8831, new learning rate = 0.00011018311023500519\n",
      "epoch 44: valid acc = 0.8832, new learning rate = 0.00010467395472325493\n",
      "epoch 45: valid acc = 0.8835, new learning rate = 9.944025698709218e-05\n",
      "epoch 46: valid acc = 0.884, new learning rate = 9.446824413773756e-05\n",
      "epoch 47: valid acc = 0.8832, new learning rate = 8.974483193085068e-05\n",
      "epoch 48: valid acc = 0.8829, new learning rate = 8.525759033430814e-05\n",
      "epoch 49: valid acc = 0.8836, new learning rate = 8.099471081759274e-05\n",
      "epoch 50: valid acc = 0.884, new learning rate = 7.69449752767131e-05\n"
     ]
    }
   ],
   "source": [
    "# Build a two-layer network without batch normalization.\n",
    "# Here is a demo.\n",
    "use_bn = False\n",
    "model = MLP(input_dim=X_train.shape[1], hidden_dims=[100], num_classes=10, \n",
    "            weight_scale=1e-3, l2_reg=0.0, use_bn=use_bn)\n",
    "optimizer = AdamOptim(model)\n",
    "# hist_no_dropout contains loss, train acc and valid acc history.\n",
    "hist_shallow_no_bn = optimizer.train(model, X_train, y_train, X_val, y_val, \n",
    "                           num_epoch=50, batch_size=100, learning_rate=1e-3, learning_decay=0.95, \n",
    "                           verbose=False, record_interval = 4)"
   ]
  },
  {
   "cell_type": "code",
   "execution_count": 13,
   "metadata": {},
   "outputs": [
    {
     "name": "stdout",
     "output_type": "stream",
     "text": [
      "number of batches for training: 600\n",
      "epoch 1: valid acc = 0.7924, new learning rate = 0.00095\n",
      "epoch 2: valid acc = 0.8176, new learning rate = 0.0009025\n",
      "epoch 3: valid acc = 0.8263, new learning rate = 0.000857375\n",
      "epoch 4: valid acc = 0.8317, new learning rate = 0.0008145062499999999\n",
      "epoch 5: valid acc = 0.8352, new learning rate = 0.0007737809374999998\n",
      "epoch 6: valid acc = 0.8383, new learning rate = 0.0007350918906249997\n",
      "epoch 7: valid acc = 0.84, new learning rate = 0.0006983372960937497\n",
      "epoch 8: valid acc = 0.8426, new learning rate = 0.0006634204312890621\n",
      "epoch 9: valid acc = 0.8442, new learning rate = 0.000630249409724609\n",
      "epoch 10: valid acc = 0.8454, new learning rate = 0.0005987369392383785\n",
      "epoch 11: valid acc = 0.8472, new learning rate = 0.0005688000922764595\n",
      "epoch 12: valid acc = 0.8491, new learning rate = 0.0005403600876626365\n",
      "epoch 13: valid acc = 0.8505, new learning rate = 0.0005133420832795047\n",
      "epoch 14: valid acc = 0.8516, new learning rate = 0.00048767497911552944\n",
      "epoch 15: valid acc = 0.8523, new learning rate = 0.00046329123015975297\n",
      "epoch 16: valid acc = 0.8536, new learning rate = 0.0004401266686517653\n",
      "epoch 17: valid acc = 0.8538, new learning rate = 0.00041812033521917703\n",
      "epoch 18: valid acc = 0.8548, new learning rate = 0.00039721431845821814\n",
      "epoch 19: valid acc = 0.8553, new learning rate = 0.0003773536025353072\n",
      "epoch 20: valid acc = 0.8565, new learning rate = 0.0003584859224085418\n",
      "epoch 21: valid acc = 0.8571, new learning rate = 0.0003405616262881147\n",
      "epoch 22: valid acc = 0.8585, new learning rate = 0.00032353354497370894\n",
      "epoch 23: valid acc = 0.8592, new learning rate = 0.00030735686772502346\n",
      "epoch 24: valid acc = 0.8589, new learning rate = 0.00029198902433877225\n",
      "epoch 25: valid acc = 0.8597, new learning rate = 0.00027738957312183364\n",
      "epoch 26: valid acc = 0.86, new learning rate = 0.0002635200944657419\n",
      "epoch 27: valid acc = 0.8601, new learning rate = 0.0002503440897424548\n",
      "epoch 28: valid acc = 0.861, new learning rate = 0.00023782688525533205\n",
      "epoch 29: valid acc = 0.8612, new learning rate = 0.00022593554099256544\n",
      "epoch 30: valid acc = 0.8615, new learning rate = 0.00021463876394293716\n",
      "epoch 31: valid acc = 0.8618, new learning rate = 0.0002039068257457903\n",
      "epoch 32: valid acc = 0.8621, new learning rate = 0.00019371148445850077\n",
      "epoch 33: valid acc = 0.8624, new learning rate = 0.00018402591023557573\n",
      "epoch 34: valid acc = 0.8626, new learning rate = 0.00017482461472379692\n",
      "epoch 35: valid acc = 0.863, new learning rate = 0.00016608338398760707\n",
      "epoch 36: valid acc = 0.8635, new learning rate = 0.0001577792147882267\n",
      "epoch 37: valid acc = 0.8642, new learning rate = 0.00014989025404881537\n",
      "epoch 38: valid acc = 0.8647, new learning rate = 0.00014239574134637458\n",
      "epoch 39: valid acc = 0.8648, new learning rate = 0.00013527595427905584\n",
      "epoch 40: valid acc = 0.8646, new learning rate = 0.00012851215656510304\n",
      "epoch 41: valid acc = 0.865, new learning rate = 0.00012208654873684788\n",
      "epoch 42: valid acc = 0.8649, new learning rate = 0.00011598222130000548\n",
      "epoch 43: valid acc = 0.865, new learning rate = 0.00011018311023500519\n",
      "epoch 44: valid acc = 0.8651, new learning rate = 0.00010467395472325493\n",
      "epoch 45: valid acc = 0.8651, new learning rate = 9.944025698709218e-05\n",
      "epoch 46: valid acc = 0.8649, new learning rate = 9.446824413773756e-05\n",
      "epoch 47: valid acc = 0.8653, new learning rate = 8.974483193085068e-05\n",
      "epoch 48: valid acc = 0.8653, new learning rate = 8.525759033430814e-05\n",
      "epoch 49: valid acc = 0.8653, new learning rate = 8.099471081759274e-05\n",
      "epoch 50: valid acc = 0.8651, new learning rate = 7.69449752767131e-05\n"
     ]
    }
   ],
   "source": [
    "# Build a two-layer network with batch normalization. Remember to \"use_bn\".\n",
    "use_bn = True\n",
    "model = MLP(input_dim=X_train.shape[1], hidden_dims=[100], num_classes=10, \n",
    "            weight_scale=1e-3, l2_reg=0.0, use_bn=use_bn)\n",
    "optimizer = AdamOptim(model)\n",
    "# hist_no_dropout contains loss, train acc and valid acc history.\n",
    "hist_shallow_bn = optimizer.train(model, X_train, y_train, X_val, y_val, \n",
    "                           num_epoch=50, batch_size=100, learning_rate=1e-3, learning_decay=0.95, \n",
    "                           verbose=False, record_interval = 4)"
   ]
  },
  {
   "cell_type": "code",
   "execution_count": 14,
   "metadata": {},
   "outputs": [
    {
     "data": {
      "image/png": "[encoded data removed]",
      "text/plain": [
       "<Figure size 1080x360 with 3 Axes>"
      ]
     },
     "metadata": {
      "needs_background": "light"
     },
     "output_type": "display_data"
    }
   ],
   "source": [
    "# Plot bn and no_bn results together in three plots and make a comparison. \n",
    "title_name = [\"loss\", \"train acc\", \"val acc\"]\n",
    "_, axarr = plt.subplots(1,3, figsize=(15,5))\n",
    "for i in range(3):\n",
    "    axarr[i].plot(hist_shallow_no_bn[i], label=\"no_bn\")\n",
    "    axarr[i].plot(hist_shallow_bn[i], label=\"bn\")\n",
    "    axarr[i].legend(), axarr[i].set_title(title_name[i])\n",
    "plt.show()"
   ]
  },
  {
   "cell_type": "markdown",
   "metadata": {},
   "source": [
    "**Experiment on deep MLP** "
   ]
  },
  {
   "cell_type": "code",
   "execution_count": 6,
   "metadata": {},
   "outputs": [
    {
     "name": "stdout",
     "output_type": "stream",
     "text": [
      "number of batches for training: 600\n",
      "epoch 1: valid acc = 0.1, new learning rate = 0.00019\n",
      "epoch 2: valid acc = 0.1, new learning rate = 0.0001805\n",
      "epoch 3: valid acc = 0.1, new learning rate = 0.00017147499999999998\n",
      "epoch 4: valid acc = 0.1, new learning rate = 0.00016290124999999997\n",
      "epoch 5: valid acc = 0.1, new learning rate = 0.00015475618749999996\n",
      "epoch 6: valid acc = 0.1, new learning rate = 0.00014701837812499996\n",
      "epoch 7: valid acc = 0.1, new learning rate = 0.00013966745921874994\n",
      "epoch 8: valid acc = 0.1, new learning rate = 0.00013268408625781244\n",
      "epoch 9: valid acc = 0.1, new learning rate = 0.0001260498819449218\n",
      "epoch 10: valid acc = 0.1, new learning rate = 0.00011974738784767572\n",
      "epoch 11: valid acc = 0.1, new learning rate = 0.00011376001845529192\n",
      "epoch 12: valid acc = 0.1, new learning rate = 0.00010807201753252733\n",
      "epoch 13: valid acc = 0.1, new learning rate = 0.00010266841665590096\n",
      "epoch 14: valid acc = 0.1, new learning rate = 9.75349958231059e-05\n",
      "epoch 15: valid acc = 0.1, new learning rate = 9.265824603195061e-05\n",
      "epoch 16: valid acc = 0.1, new learning rate = 8.802533373035307e-05\n",
      "epoch 17: valid acc = 0.1, new learning rate = 8.362406704383542e-05\n",
      "epoch 18: valid acc = 0.1, new learning rate = 7.944286369164364e-05\n",
      "epoch 19: valid acc = 0.1, new learning rate = 7.547072050706145e-05\n",
      "epoch 20: valid acc = 0.1, new learning rate = 7.169718448170838e-05\n",
      "epoch 21: valid acc = 0.1, new learning rate = 6.811232525762296e-05\n",
      "epoch 22: valid acc = 0.1, new learning rate = 6.470670899474181e-05\n",
      "epoch 23: valid acc = 0.1, new learning rate = 6.147137354500471e-05\n",
      "epoch 24: valid acc = 0.1, new learning rate = 5.839780486775447e-05\n",
      "epoch 25: valid acc = 0.1, new learning rate = 5.547791462436675e-05\n",
      "epoch 26: valid acc = 0.1, new learning rate = 5.270401889314841e-05\n",
      "epoch 27: valid acc = 0.1, new learning rate = 5.0068817948490985e-05\n",
      "epoch 28: valid acc = 0.1, new learning rate = 4.756537705106643e-05\n",
      "epoch 29: valid acc = 0.1, new learning rate = 4.518710819851311e-05\n",
      "epoch 30: valid acc = 0.1, new learning rate = 4.292775278858745e-05\n",
      "epoch 31: valid acc = 0.1, new learning rate = 4.078136514915808e-05\n",
      "epoch 32: valid acc = 0.1, new learning rate = 3.874229689170017e-05\n",
      "epoch 33: valid acc = 0.1, new learning rate = 3.680518204711516e-05\n",
      "epoch 34: valid acc = 0.1, new learning rate = 3.49649229447594e-05\n",
      "epoch 35: valid acc = 0.1, new learning rate = 3.321667679752143e-05\n",
      "epoch 36: valid acc = 0.1, new learning rate = 3.1555842957645355e-05\n",
      "epoch 37: valid acc = 0.1, new learning rate = 2.9978050809763088e-05\n",
      "epoch 38: valid acc = 0.1, new learning rate = 2.8479148269274933e-05\n",
      "epoch 39: valid acc = 0.1, new learning rate = 2.7055190855811184e-05\n",
      "epoch 40: valid acc = 0.1, new learning rate = 2.5702431313020624e-05\n",
      "epoch 41: valid acc = 0.1, new learning rate = 2.4417309747369593e-05\n",
      "epoch 42: valid acc = 0.1, new learning rate = 2.319644426000111e-05\n",
      "epoch 43: valid acc = 0.1, new learning rate = 2.2036622047001054e-05\n",
      "epoch 44: valid acc = 0.1, new learning rate = 2.0934790944651e-05\n",
      "epoch 45: valid acc = 0.1, new learning rate = 1.988805139741845e-05\n",
      "epoch 46: valid acc = 0.1, new learning rate = 1.8893648827547526e-05\n",
      "epoch 47: valid acc = 0.1, new learning rate = 1.7948966386170148e-05\n",
      "epoch 48: valid acc = 0.1, new learning rate = 1.705151806686164e-05\n",
      "epoch 49: valid acc = 0.1, new learning rate = 1.619894216351856e-05\n",
      "epoch 50: valid acc = 0.1, new learning rate = 1.538899505534263e-05\n"
     ]
    }
   ],
   "source": [
    "# Build a deep 5-layer network without batch normalization. Remember to \"use_bn\".\n",
    "use_bn = False\n",
    "model = MLP(input_dim=X_train.shape[1], hidden_dims=[100, 50, 50, 50, 50, 50, 50, 50], num_classes=10, \n",
    "            weight_scale=1e-3, l2_reg=0.0, use_bn=use_bn)\n",
    "optimizer = AdamOptim(model)\n",
    "# hist_no_dropout contains loss, train acc and valid acc history.\n",
    "hist_deep_no_bn = optimizer.train(model, X_train, y_train, X_val, y_val, \n",
    "                           num_epoch=50, batch_size=100, learning_rate=2e-4, learning_decay=0.95, \n",
    "                           verbose=False, record_interval = 4)"
   ]
  },
  {
   "cell_type": "code",
   "execution_count": 7,
   "metadata": {},
   "outputs": [
    {
     "name": "stdout",
     "output_type": "stream",
     "text": [
      "number of batches for training: 600\n",
      "epoch 1: valid acc = 0.1571, new learning rate = 0.00019\n",
      "epoch 2: valid acc = 0.1577, new learning rate = 0.0001805\n",
      "epoch 3: valid acc = 0.1583, new learning rate = 0.00017147499999999998\n",
      "epoch 4: valid acc = 0.1587, new learning rate = 0.00016290124999999997\n",
      "epoch 5: valid acc = 0.1598, new learning rate = 0.00015475618749999996\n",
      "epoch 6: valid acc = 0.16, new learning rate = 0.00014701837812499996\n",
      "epoch 7: valid acc = 0.1604, new learning rate = 0.00013966745921874994\n",
      "epoch 8: valid acc = 0.1611, new learning rate = 0.00013268408625781244\n",
      "epoch 9: valid acc = 0.162, new learning rate = 0.0001260498819449218\n",
      "epoch 10: valid acc = 0.162, new learning rate = 0.00011974738784767572\n",
      "epoch 11: valid acc = 0.1627, new learning rate = 0.00011376001845529192\n",
      "epoch 12: valid acc = 0.1633, new learning rate = 0.00010807201753252733\n",
      "epoch 13: valid acc = 0.1635, new learning rate = 0.00010266841665590096\n",
      "epoch 14: valid acc = 0.1646, new learning rate = 9.75349958231059e-05\n",
      "epoch 15: valid acc = 0.1655, new learning rate = 9.265824603195061e-05\n",
      "epoch 16: valid acc = 0.1665, new learning rate = 8.802533373035307e-05\n",
      "epoch 17: valid acc = 0.1667, new learning rate = 8.362406704383542e-05\n",
      "epoch 18: valid acc = 0.1678, new learning rate = 7.944286369164364e-05\n",
      "epoch 19: valid acc = 0.1682, new learning rate = 7.547072050706145e-05\n",
      "epoch 20: valid acc = 0.1686, new learning rate = 7.169718448170838e-05\n",
      "epoch 21: valid acc = 0.1692, new learning rate = 6.811232525762296e-05\n",
      "epoch 22: valid acc = 0.1698, new learning rate = 6.470670899474181e-05\n",
      "epoch 23: valid acc = 0.1705, new learning rate = 6.147137354500471e-05\n",
      "epoch 24: valid acc = 0.1704, new learning rate = 5.839780486775447e-05\n",
      "epoch 25: valid acc = 0.1713, new learning rate = 5.547791462436675e-05\n",
      "epoch 26: valid acc = 0.171, new learning rate = 5.270401889314841e-05\n",
      "epoch 27: valid acc = 0.1712, new learning rate = 5.0068817948490985e-05\n",
      "epoch 28: valid acc = 0.1715, new learning rate = 4.756537705106643e-05\n",
      "epoch 29: valid acc = 0.1716, new learning rate = 4.518710819851311e-05\n",
      "epoch 30: valid acc = 0.172, new learning rate = 4.292775278858745e-05\n",
      "epoch 31: valid acc = 0.1724, new learning rate = 4.078136514915808e-05\n",
      "epoch 32: valid acc = 0.1727, new learning rate = 3.874229689170017e-05\n",
      "epoch 33: valid acc = 0.1725, new learning rate = 3.680518204711516e-05\n",
      "epoch 34: valid acc = 0.1727, new learning rate = 3.49649229447594e-05\n",
      "epoch 35: valid acc = 0.1727, new learning rate = 3.321667679752143e-05\n",
      "epoch 36: valid acc = 0.1729, new learning rate = 3.1555842957645355e-05\n",
      "epoch 37: valid acc = 0.1727, new learning rate = 2.9978050809763088e-05\n",
      "epoch 38: valid acc = 0.1726, new learning rate = 2.8479148269274933e-05\n",
      "epoch 39: valid acc = 0.1731, new learning rate = 2.7055190855811184e-05\n",
      "epoch 40: valid acc = 0.1729, new learning rate = 2.5702431313020624e-05\n",
      "epoch 41: valid acc = 0.1727, new learning rate = 2.4417309747369593e-05\n",
      "epoch 42: valid acc = 0.1732, new learning rate = 2.319644426000111e-05\n",
      "epoch 43: valid acc = 0.1731, new learning rate = 2.2036622047001054e-05\n",
      "epoch 44: valid acc = 0.1731, new learning rate = 2.0934790944651e-05\n",
      "epoch 45: valid acc = 0.173, new learning rate = 1.988805139741845e-05\n",
      "epoch 46: valid acc = 0.1737, new learning rate = 1.8893648827547526e-05\n",
      "epoch 47: valid acc = 0.174, new learning rate = 1.7948966386170148e-05\n",
      "epoch 48: valid acc = 0.1741, new learning rate = 1.705151806686164e-05\n",
      "epoch 49: valid acc = 0.1742, new learning rate = 1.619894216351856e-05\n",
      "epoch 50: valid acc = 0.1746, new learning rate = 1.538899505534263e-05\n"
     ]
    }
   ],
   "source": [
    "# Build a deep 5-layer network with batch normalization. Remember to \"use_bn\".\n",
    "use_bn = True\n",
    "model = MLP(input_dim=X_train.shape[1], hidden_dims=[100, 50, 50, 50, 50, 50, 50, 50], num_classes=10, \n",
    "            weight_scale=1e-3, l2_reg=0.0, use_bn=use_bn)\n",
    "optimizer = AdamOptim(model)\n",
    "# hist_no_dropout contains loss, train acc and valid acc history.\n",
    "hist_deep_bn = optimizer.train(model, X_train, y_train, X_val, y_val, \n",
    "                           num_epoch=50, batch_size=100, learning_rate=2e-4, learning_decay=0.95, \n",
    "                           verbose=False, record_interval = 4)"
   ]
  },
  {
   "cell_type": "code",
   "execution_count": 8,
   "metadata": {},
   "outputs": [
    {
     "data": {
      "image/png": "[encoded data removed]",
      "text/plain": [
       "<Figure size 1080x360 with 3 Axes>"
      ]
     },
     "metadata": {
      "needs_background": "light"
     },
     "output_type": "display_data"
    }
   ],
   "source": [
    "# Plot bn and no_bn results together in three plots and make a comparison. \n",
    "title_name = [\"loss\", \"train acc\", \"val acc\"]\n",
    "_, axarr = plt.subplots(1,3, figsize=(15,5))\n",
    "for i in range(3):\n",
    "    axarr[i].plot(hist_deep_no_bn[i], label=\"no_bn\")\n",
    "    axarr[i].plot(hist_deep_bn[i], label=\"bn\")\n",
    "    axarr[i].legend(), axarr[i].set_title(title_name[i])\n",
    "plt.show()"
   ]
  },
  {
   "cell_type": "markdown",
   "metadata": {},
   "source": [
    "<span style=\"color:red\"><strong>TODO:</strong></span> Describe what you find in this experiment."
   ]
  },
  {
   "cell_type": "markdown",
   "metadata": {},
   "source": [
    "Answer: **[In the case of shallow networks, batch normalization has no obvious effect on the result, with no improvement. On the contraty, when the case of deep neural networks, the networks with batch normalization is evidently better than the neural networks without. This might because as a similar idea to normalizationin in Machine learning, by re-normalizing the hidden values of each layer before transfering values to the next layer, batch normalization in the neural network help to avoid overfitting, whereas the model without batch normalization is more likely to overfit]**"
   ]
  },
  {
   "cell_type": "markdown",
   "metadata": {},
   "source": [
    "## Part 2: Dropout"
   ]
  },
  {
   "cell_type": "markdown",
   "metadata": {},
   "source": [
    "### Implement dropout_forward function\n",
    "\n",
    "<span style=\"color:red\"><strong>TODO:</strong></span> Edit function **dropout_forward** in **./utils/reg_funcs.py**. If the code is running correctly, you will see that the outputs of the verification code should be close to each other. \n",
    "<br><br> If the function is correct, then **the output mean should be close to the input mean. Input mean and output test mean should be identical.**"
   ]
  },
  {
   "cell_type": "code",
   "execution_count": 22,
   "metadata": {},
   "outputs": [],
   "source": [
    "x_in = np.random.randn(500, 500) + 10"
   ]
  },
  {
   "cell_type": "code",
   "execution_count": 23,
   "metadata": {},
   "outputs": [
    {
     "name": "stdout",
     "output_type": "stream",
     "text": [
      "mean_of_input = 6.998844573570677\n",
      "mean_of_out = 7.011258704675572\n",
      "mean_of_out_test = 6.998844573570677\n"
     ]
    }
   ],
   "source": [
    "################################################\n",
    "# Checking/verification code. Don't change it. #\n",
    "################################################\n",
    "from utils.reg_funcs import dropout_forward\n",
    "from utils.reg_funcs import dropout_backward\n",
    "\n",
    "p = 0.7\n",
    "dropout_config = {\"enabled\": True, \"keep_prob\": p}\n",
    "# feedforward\n",
    "out, cache = dropout_forward(x=x_in, dropout_config=dropout_config, mode=\"train\")\n",
    "out_test, _ = dropout_forward(x=x_in, dropout_config=dropout_config, mode=\"test\") \n",
    "# backward\n",
    "dout = np.ones_like(x_in)\n",
    "dx = dropout_backward(dout, cache)\n",
    "################################################\n",
    "# Checking/verification code. Don't change it. #\n",
    "################################################\n",
    "# Check forward correctness\n",
    "print(\"mean_of_input = {}\".format(p*np.mean(x_in)))\n",
    "print(\"mean_of_out = {}\".format(np.mean(out)))\n",
    "print(\"mean_of_out_test = {}\".format(np.mean(out_test)))"
   ]
  },
  {
   "cell_type": "markdown",
   "metadata": {},
   "source": [
    "### Dropout Experiments with MLP\n",
    "\n",
    "<span style=\"color:red\"><strong>TODO:</strong></span>\n",
    "\n",
    "1. Add dropout into the MLP. Review **loss**, **predict** functions of class **MLP** in **./utils/neuralnets/mlp.py** and understand how the dropout is added into the MLP.\n",
    "\n",
    "2. Customize your own MLP network.Then, train networks with different **keep_prob**, like 0.1, 0.3, 0.5, 0.7, 0.9, 1. If **keep_prob**==1, then the network is the MLP without dropout.\n",
    "\n",
    "3. Plot the loss, training accuracy, and validation accuracy curves.\n",
    "\n",
    "Note that checking/validation code is included below with preselected dropout parameters."
   ]
  },
  {
   "cell_type": "code",
   "execution_count": 10,
   "metadata": {},
   "outputs": [
    {
     "name": "stdout",
     "output_type": "stream",
     "text": [
      "number of batches for training: 600\n",
      "epoch 1: valid acc = 0.3554, new learning rate = 0.00095\n",
      "epoch 2: valid acc = 0.3918, new learning rate = 0.0009025\n",
      "epoch 3: valid acc = 0.4705, new learning rate = 0.000857375\n",
      "epoch 4: valid acc = 0.6163, new learning rate = 0.0008145062499999999\n",
      "epoch 5: valid acc = 0.6242, new learning rate = 0.0007737809374999998\n",
      "epoch 6: valid acc = 0.6432, new learning rate = 0.0007350918906249997\n",
      "epoch 7: valid acc = 0.6616, new learning rate = 0.0006983372960937497\n",
      "epoch 8: valid acc = 0.6664, new learning rate = 0.0006634204312890621\n",
      "epoch 9: valid acc = 0.6696, new learning rate = 0.000630249409724609\n",
      "epoch 10: valid acc = 0.6741, new learning rate = 0.0005987369392383785\n",
      "epoch 11: valid acc = 0.7546, new learning rate = 0.0005688000922764595\n",
      "epoch 12: valid acc = 0.7649, new learning rate = 0.0005403600876626365\n",
      "epoch 13: valid acc = 0.7697, new learning rate = 0.0005133420832795047\n",
      "epoch 14: valid acc = 0.7755, new learning rate = 0.00048767497911552944\n",
      "epoch 15: valid acc = 0.7766, new learning rate = 0.00046329123015975297\n",
      "epoch 16: valid acc = 0.7792, new learning rate = 0.0004401266686517653\n",
      "epoch 17: valid acc = 0.7825, new learning rate = 0.00041812033521917703\n",
      "epoch 18: valid acc = 0.7859, new learning rate = 0.00039721431845821814\n",
      "epoch 19: valid acc = 0.787, new learning rate = 0.0003773536025353072\n",
      "epoch 20: valid acc = 0.789, new learning rate = 0.0003584859224085418\n"
     ]
    }
   ],
   "source": [
    "# Here is an example on how to collect loss and accuracy info\n",
    "dropout_config = {\"enabled\":True, \"keep_prob\": 1}\n",
    "model = MLP(input_dim=X_train.shape[1], hidden_dims=[200,100,50,50], num_classes=10, \n",
    "            weight_scale=1e-3, l2_reg=0.0, dropout_config=dropout_config)\n",
    "optimizer = AdamOptim(model)\n",
    "# hist_no_dropout contains loss, train acc and valid acc history.\n",
    "hist_no_dropout = optimizer.train(model, X_train, y_train, X_val, y_val, \n",
    "                           num_epoch=20, batch_size=100, learning_rate=1e-3, learning_decay=0.95, \n",
    "                           verbose=False, record_interval = 4)"
   ]
  },
  {
   "cell_type": "code",
   "execution_count": 11,
   "metadata": {},
   "outputs": [
    {
     "name": "stdout",
     "output_type": "stream",
     "text": [
      "number of batches for training: 600\n",
      "epoch 1: valid acc = 0.5848, new learning rate = 0.00095\n",
      "epoch 2: valid acc = 0.8118, new learning rate = 0.0009025\n",
      "epoch 3: valid acc = 0.8375, new learning rate = 0.000857375\n",
      "epoch 4: valid acc = 0.8491, new learning rate = 0.0008145062499999999\n",
      "epoch 5: valid acc = 0.8571, new learning rate = 0.0007737809374999998\n",
      "epoch 6: valid acc = 0.8634, new learning rate = 0.0007350918906249997\n",
      "epoch 7: valid acc = 0.8619, new learning rate = 0.0006983372960937497\n",
      "epoch 8: valid acc = 0.8668, new learning rate = 0.0006634204312890621\n",
      "epoch 9: valid acc = 0.8696, new learning rate = 0.000630249409724609\n",
      "epoch 10: valid acc = 0.8744, new learning rate = 0.0005987369392383785\n",
      "epoch 11: valid acc = 0.8733, new learning rate = 0.0005688000922764595\n",
      "epoch 12: valid acc = 0.8742, new learning rate = 0.0005403600876626365\n",
      "epoch 13: valid acc = 0.8776, new learning rate = 0.0005133420832795047\n",
      "epoch 14: valid acc = 0.8788, new learning rate = 0.00048767497911552944\n",
      "epoch 15: valid acc = 0.8777, new learning rate = 0.00046329123015975297\n",
      "epoch 16: valid acc = 0.8808, new learning rate = 0.0004401266686517653\n",
      "epoch 17: valid acc = 0.8798, new learning rate = 0.00041812033521917703\n",
      "epoch 18: valid acc = 0.8822, new learning rate = 0.00039721431845821814\n",
      "epoch 19: valid acc = 0.8825, new learning rate = 0.0003773536025353072\n",
      "epoch 20: valid acc = 0.8842, new learning rate = 0.0003584859224085418\n"
     ]
    }
   ],
   "source": [
    "dropout_config[\"keep_prob\"] = 0.9\n",
    "model = MLP(input_dim=X_train.shape[1], hidden_dims=[200,100,50,50], num_classes=10, \n",
    "            weight_scale=1e-2, l2_reg=0.0, dropout_config=dropout_config)\n",
    "optimizer = AdamOptim(model)\n",
    "hist_dropout_9 = optimizer.train(model, X_train, y_train, X_val, y_val, \n",
    "                           num_epoch=20, batch_size=100, learning_rate=1e-3, learning_decay=0.95,\n",
    "                           verbose=False, record_interval = 4)"
   ]
  },
  {
   "cell_type": "code",
   "execution_count": 12,
   "metadata": {},
   "outputs": [
    {
     "name": "stdout",
     "output_type": "stream",
     "text": [
      "number of batches for training: 600\n",
      "epoch 1: valid acc = 0.6349, new learning rate = 0.00095\n",
      "epoch 2: valid acc = 0.6931, new learning rate = 0.0009025\n",
      "epoch 3: valid acc = 0.7935, new learning rate = 0.000857375\n",
      "epoch 4: valid acc = 0.8028, new learning rate = 0.0008145062499999999\n",
      "epoch 5: valid acc = 0.8076, new learning rate = 0.0007737809374999998\n",
      "epoch 6: valid acc = 0.8145, new learning rate = 0.0007350918906249997\n",
      "epoch 7: valid acc = 0.8178, new learning rate = 0.0006983372960937497\n",
      "epoch 8: valid acc = 0.8267, new learning rate = 0.0006634204312890621\n",
      "epoch 9: valid acc = 0.8456, new learning rate = 0.000630249409724609\n",
      "epoch 10: valid acc = 0.85, new learning rate = 0.0005987369392383785\n",
      "epoch 11: valid acc = 0.8525, new learning rate = 0.0005688000922764595\n",
      "epoch 12: valid acc = 0.8553, new learning rate = 0.0005403600876626365\n",
      "epoch 13: valid acc = 0.8593, new learning rate = 0.0005133420832795047\n",
      "epoch 14: valid acc = 0.861, new learning rate = 0.00048767497911552944\n",
      "epoch 15: valid acc = 0.8613, new learning rate = 0.00046329123015975297\n",
      "epoch 16: valid acc = 0.864, new learning rate = 0.0004401266686517653\n",
      "epoch 17: valid acc = 0.866, new learning rate = 0.00041812033521917703\n",
      "epoch 18: valid acc = 0.8666, new learning rate = 0.00039721431845821814\n",
      "epoch 19: valid acc = 0.8678, new learning rate = 0.0003773536025353072\n",
      "epoch 20: valid acc = 0.8682, new learning rate = 0.0003584859224085418\n"
     ]
    }
   ],
   "source": [
    "dropout_config[\"keep_prob\"] = 0.7\n",
    "model = MLP(input_dim=X_train.shape[1], hidden_dims=[200,100,50,50], num_classes=10, \n",
    "            weight_scale=1e-2, l2_reg=0.0, dropout_config=dropout_config)\n",
    "optimizer = AdamOptim(model)\n",
    "hist_dropout_7 = optimizer.train(model, X_train, y_train, X_val, y_val, \n",
    "                           num_epoch=20, batch_size=100, learning_rate=1e-3, learning_decay=0.95,\n",
    "                           verbose=False, record_interval = 4)"
   ]
  },
  {
   "cell_type": "code",
   "execution_count": 13,
   "metadata": {},
   "outputs": [
    {
     "name": "stdout",
     "output_type": "stream",
     "text": [
      "number of batches for training: 600\n",
      "epoch 1: valid acc = 0.4367, new learning rate = 0.00095\n",
      "epoch 2: valid acc = 0.6704, new learning rate = 0.0009025\n",
      "epoch 3: valid acc = 0.6857, new learning rate = 0.000857375\n",
      "epoch 4: valid acc = 0.6774, new learning rate = 0.0008145062499999999\n",
      "epoch 5: valid acc = 0.7665, new learning rate = 0.0007737809374999998\n",
      "epoch 6: valid acc = 0.785, new learning rate = 0.0007350918906249997\n",
      "epoch 7: valid acc = 0.7939, new learning rate = 0.0006983372960937497\n",
      "epoch 8: valid acc = 0.7969, new learning rate = 0.0006634204312890621\n",
      "epoch 9: valid acc = 0.8004, new learning rate = 0.000630249409724609\n",
      "epoch 10: valid acc = 0.8024, new learning rate = 0.0005987369392383785\n",
      "epoch 11: valid acc = 0.8061, new learning rate = 0.0005688000922764595\n",
      "epoch 12: valid acc = 0.8153, new learning rate = 0.0005403600876626365\n",
      "epoch 13: valid acc = 0.8211, new learning rate = 0.0005133420832795047\n",
      "epoch 14: valid acc = 0.8195, new learning rate = 0.00048767497911552944\n",
      "epoch 15: valid acc = 0.8262, new learning rate = 0.00046329123015975297\n",
      "epoch 16: valid acc = 0.8275, new learning rate = 0.0004401266686517653\n",
      "epoch 17: valid acc = 0.8317, new learning rate = 0.00041812033521917703\n",
      "epoch 18: valid acc = 0.8316, new learning rate = 0.00039721431845821814\n",
      "epoch 19: valid acc = 0.8338, new learning rate = 0.0003773536025353072\n",
      "epoch 20: valid acc = 0.8339, new learning rate = 0.0003584859224085418\n"
     ]
    }
   ],
   "source": [
    "dropout_config[\"keep_prob\"] = 0.5\n",
    "model = MLP(input_dim=X_train.shape[1], hidden_dims=[200,100,50,50], num_classes=10, \n",
    "            weight_scale=1e-2, l2_reg=0.0, dropout_config=dropout_config)\n",
    "optimizer = AdamOptim(model)\n",
    "hist_dropout_5 = optimizer.train(model, X_train, y_train, X_val, y_val, \n",
    "                           num_epoch=20, batch_size=100, learning_rate=1e-3, learning_decay=0.95,\n",
    "                           verbose=False, record_interval = 4)"
   ]
  },
  {
   "cell_type": "code",
   "execution_count": 14,
   "metadata": {},
   "outputs": [
    {
     "name": "stdout",
     "output_type": "stream",
     "text": [
      "number of batches for training: 600\n",
      "epoch 1: valid acc = 0.3303, new learning rate = 0.00095\n",
      "epoch 2: valid acc = 0.4013, new learning rate = 0.0009025\n",
      "epoch 3: valid acc = 0.4055, new learning rate = 0.000857375\n",
      "epoch 4: valid acc = 0.3911, new learning rate = 0.0008145062499999999\n",
      "epoch 5: valid acc = 0.389, new learning rate = 0.0007737809374999998\n",
      "epoch 6: valid acc = 0.3896, new learning rate = 0.0007350918906249997\n",
      "epoch 7: valid acc = 0.3848, new learning rate = 0.0006983372960937497\n",
      "epoch 8: valid acc = 0.4032, new learning rate = 0.0006634204312890621\n",
      "epoch 9: valid acc = 0.3925, new learning rate = 0.000630249409724609\n",
      "epoch 10: valid acc = 0.4025, new learning rate = 0.0005987369392383785\n",
      "epoch 11: valid acc = 0.4269, new learning rate = 0.0005688000922764595\n",
      "epoch 12: valid acc = 0.4857, new learning rate = 0.0005403600876626365\n",
      "epoch 13: valid acc = 0.5053, new learning rate = 0.0005133420832795047\n",
      "epoch 14: valid acc = 0.5706, new learning rate = 0.00048767497911552944\n",
      "epoch 15: valid acc = 0.5673, new learning rate = 0.00046329123015975297\n",
      "epoch 16: valid acc = 0.5714, new learning rate = 0.0004401266686517653\n",
      "epoch 17: valid acc = 0.6132, new learning rate = 0.00041812033521917703\n",
      "epoch 18: valid acc = 0.5997, new learning rate = 0.00039721431845821814\n",
      "epoch 19: valid acc = 0.6247, new learning rate = 0.0003773536025353072\n",
      "epoch 20: valid acc = 0.6393, new learning rate = 0.0003584859224085418\n"
     ]
    }
   ],
   "source": [
    "dropout_config[\"keep_prob\"] = 0.3\n",
    "model = MLP(input_dim=X_train.shape[1], hidden_dims=[200,100,50,50], num_classes=10, \n",
    "            weight_scale=1e-2, l2_reg=0.0, dropout_config=dropout_config)\n",
    "optimizer = AdamOptim(model)\n",
    "hist_dropout_3 = optimizer.train(model, X_train, y_train, X_val, y_val, \n",
    "                           num_epoch=20, batch_size=100, learning_rate=1e-3, learning_decay=0.95,\n",
    "                           verbose=False, record_interval = 4)"
   ]
  },
  {
   "cell_type": "code",
   "execution_count": 15,
   "metadata": {},
   "outputs": [
    {
     "name": "stdout",
     "output_type": "stream",
     "text": [
      "number of batches for training: 600\n",
      "epoch 1: valid acc = 0.2885, new learning rate = 0.00095\n",
      "epoch 2: valid acc = 0.3646, new learning rate = 0.0009025\n",
      "epoch 3: valid acc = 0.3922, new learning rate = 0.000857375\n",
      "epoch 4: valid acc = 0.4065, new learning rate = 0.0008145062499999999\n",
      "epoch 5: valid acc = 0.4118, new learning rate = 0.0007737809374999998\n",
      "epoch 6: valid acc = 0.4175, new learning rate = 0.0007350918906249997\n",
      "epoch 7: valid acc = 0.4245, new learning rate = 0.0006983372960937497\n",
      "epoch 8: valid acc = 0.4264, new learning rate = 0.0006634204312890621\n",
      "epoch 9: valid acc = 0.4255, new learning rate = 0.000630249409724609\n",
      "epoch 10: valid acc = 0.4336, new learning rate = 0.0005987369392383785\n",
      "epoch 11: valid acc = 0.435, new learning rate = 0.0005688000922764595\n",
      "epoch 12: valid acc = 0.4311, new learning rate = 0.0005403600876626365\n",
      "epoch 13: valid acc = 0.4325, new learning rate = 0.0005133420832795047\n",
      "epoch 14: valid acc = 0.4292, new learning rate = 0.00048767497911552944\n",
      "epoch 15: valid acc = 0.4291, new learning rate = 0.00046329123015975297\n",
      "epoch 16: valid acc = 0.4357, new learning rate = 0.0004401266686517653\n",
      "epoch 17: valid acc = 0.434, new learning rate = 0.00041812033521917703\n",
      "epoch 18: valid acc = 0.4327, new learning rate = 0.00039721431845821814\n",
      "epoch 19: valid acc = 0.428, new learning rate = 0.0003773536025353072\n",
      "epoch 20: valid acc = 0.4377, new learning rate = 0.0003584859224085418\n"
     ]
    }
   ],
   "source": [
    "# small retention rate\n",
    "dropout_config[\"keep_prob\"] = 0.1\n",
    "model = MLP(input_dim=X_train.shape[1], hidden_dims=[200,100,50,50], num_classes=10, \n",
    "            weight_scale=1e-2, l2_reg=0.0, dropout_config=dropout_config)\n",
    "optimizer = AdamOptim(model)\n",
    "hist_dropout_1 = optimizer.train(model, X_train, y_train, X_val, y_val, \n",
    "                           num_epoch=20, batch_size=100, learning_rate=1e-3, learning_decay=0.95,\n",
    "                           verbose=False, record_interval = 4)"
   ]
  },
  {
   "cell_type": "code",
   "execution_count": 16,
   "metadata": {},
   "outputs": [],
   "source": [
    "loss_no_dropout, train_acc_no_dropout, val_acc_no_dropout = hist_no_dropout\n",
    "loss_dropout_1, train_acc_dropout_1, val_acc_dropout_1 = hist_dropout_1\n",
    "loss_dropout_3, train_acc_dropout_3, val_acc_dropout_3 = hist_dropout_3\n",
    "loss_dropout_5, train_acc_dropout_5, val_acc_dropout_5 = hist_dropout_5\n",
    "loss_dropout_7, train_acc_dropout_7, val_acc_dropout_7 = hist_dropout_7\n",
    "loss_dropout_9, train_acc_dropout_9, val_acc_dropout_9 = hist_dropout_9"
   ]
  },
  {
   "cell_type": "code",
   "execution_count": 17,
   "metadata": {},
   "outputs": [
    {
     "data": {
      "image/png": "[encoded data removed]",
      "text/plain": [
       "<Figure size 432x288 with 1 Axes>"
      ]
     },
     "metadata": {
      "needs_background": "light"
     },
     "output_type": "display_data"
    }
   ],
   "source": [
    "plt.plot(loss_no_dropout, label=\"no dropout\")\n",
    "plt.plot(loss_dropout_1, label=\"keep_prob=0.1\")\n",
    "plt.plot(loss_dropout_3, label=\"keep_prob=0.3\")\n",
    "plt.plot(loss_dropout_5, label=\"keep_prob=0.5\")\n",
    "plt.plot(loss_dropout_7, label=\"keep_prob=0.7\")\n",
    "plt.plot(loss_dropout_9, label=\"keep_prob=0.9\")\n",
    "plt.legend()\n",
    "plt.show()"
   ]
  },
  {
   "cell_type": "code",
   "execution_count": 18,
   "metadata": {},
   "outputs": [
    {
     "data": {
      "image/png": "[encoded data removed]",
      "text/plain": [
       "<Figure size 432x288 with 1 Axes>"
      ]
     },
     "metadata": {
      "needs_background": "light"
     },
     "output_type": "display_data"
    }
   ],
   "source": [
    "plt.plot(train_acc_no_dropout, label=\"no dropout\")\n",
    "plt.plot(train_acc_dropout_1, label=\"keep_prob=0.1\")\n",
    "plt.plot(train_acc_dropout_3, label=\"keep_prob=0.3\")\n",
    "plt.plot(train_acc_dropout_5, label=\"keep_prob=0.5\")\n",
    "plt.plot(train_acc_dropout_7, label=\"keep_prob=0.7\")\n",
    "plt.plot(train_acc_dropout_9, label=\"keep_prob=0.9\")\n",
    "plt.legend()\n",
    "plt.show()"
   ]
  },
  {
   "cell_type": "code",
   "execution_count": 19,
   "metadata": {},
   "outputs": [
    {
     "data": {
      "image/png": "[encoded data removed]",
      "text/plain": [
       "<Figure size 432x288 with 1 Axes>"
      ]
     },
     "metadata": {
      "needs_background": "light"
     },
     "output_type": "display_data"
    }
   ],
   "source": [
    "plt.plot(val_acc_no_dropout, label=\"no dropout\")\n",
    "plt.plot(val_acc_dropout_1, label=\"keep_prob=0.1\")\n",
    "plt.plot(val_acc_dropout_3, label=\"keep_prob=0.3\")\n",
    "plt.plot(val_acc_dropout_5, label=\"keep_prob=0.5\")\n",
    "plt.plot(val_acc_dropout_7, label=\"keep_prob=0.7\")\n",
    "plt.plot(val_acc_dropout_9, label=\"keep_prob=0.9\")\n",
    "plt.legend()\n",
    "plt.show()"
   ]
  },
  {
   "cell_type": "markdown",
   "metadata": {},
   "source": [
    "<span style=\"color:red\"><strong>TODO:</strong></span> Describe what you find in this dropout experiment."
   ]
  },
  {
   "cell_type": "markdown",
   "metadata": {},
   "source": [
    "Answer: **[From figures above we can draw conclusions that models with a low dropoutrate would perfrom worse than no-batch normalization one in the deep neural networks, while when the droprate >=0.7, the performance is obviously improved, droprate=0.9 offers the best validation accuracy. In a word, a reasonably high dropout rate can reduce training time and promote the perforamnce as well in deep neural networks.]**"
   ]
  },
  {
   "cell_type": "markdown",
   "metadata": {},
   "source": [
    "## Part 3: Dropout + Batch Normalization"
   ]
  },
  {
   "cell_type": "code",
   "execution_count": 9,
   "metadata": {},
   "outputs": [
    {
     "name": "stdout",
     "output_type": "stream",
     "text": [
      "number of batches for training: 300\n",
      "epoch 1: valid acc = 0.2088, new learning rate = 0.001\n",
      "epoch 2: valid acc = 0.2892, new learning rate = 0.001\n",
      "epoch 3: valid acc = 0.4452, new learning rate = 0.001\n",
      "epoch 4: valid acc = 0.4859, new learning rate = 0.001\n",
      "epoch 5: valid acc = 0.5046, new learning rate = 0.001\n"
     ]
    }
   ],
   "source": [
    "# Create a deep network with both dropout and batch normalization.\n",
    "dropout_config = {\"enabled\":True, \"keep_prob\": 0.7}\n",
    "use_bn = True\n",
    "model = MLP(input_dim=X_train.shape[1], hidden_dims=[100, 50, 50, 50], num_classes=10, \n",
    "            weight_scale=1e-3, l2_reg=0.0, dropout_config=dropout_config, use_bn=use_bn)\n",
    "optimizer = AdamOptim(model)\n",
    "\n",
    "# hist_no_dropout contains loss, train acc and valid acc history.\n",
    "hist_deep_bn = optimizer.train(model, X_train, y_train, X_val, y_val, \n",
    "                           num_epoch=5, batch_size=200, learning_rate=1e-3, learning_decay=1.0, \n",
    "                           verbose=False, record_interval = 4)"
   ]
  },
  {
   "cell_type": "markdown",
   "metadata": {},
   "source": [
    "## Reference\n",
    "* Weight Normalization: A Simple Reparameterization to Accelerate Training of Deep Neural Networks https://arxiv.org/abs/1602.07868\n",
    "* Highway netowrk https://arxiv.org/pdf/1505.00387.pdf"
   ]
  }
 ],
 "metadata": {
  "kernelspec": {
   "display_name": "Python 3",
   "language": "python",
   "name": "python3"
  },
  "language_info": {
   "codemirror_mode": {
    "name": "ipython",
    "version": 3
   },
   "file_extension": ".py",
   "mimetype": "text/x-python",
   "name": "python",
   "nbconvert_exporter": "python",
   "pygments_lexer": "ipython3",
   "version": "3.6.9"
  }
 },
 "nbformat": 4,
 "nbformat_minor": 4
}
